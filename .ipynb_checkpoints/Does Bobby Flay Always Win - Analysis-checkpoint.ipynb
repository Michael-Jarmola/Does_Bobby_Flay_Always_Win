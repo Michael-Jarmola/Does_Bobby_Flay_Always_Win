{
 "cells": [
  {
   "cell_type": "markdown",
   "metadata": {},
   "source": [
    "# Does Bobby Always Win on \"Beat Bobby Flay?\""
   ]
  },
  {
   "cell_type": "markdown",
   "metadata": {},
   "source": [
    "Well, no, not exactly. Bobby is good. But he's not that good. Beating Bobby is still quite the accomplishment though. Let's dive into some fun insights from the show."
   ]
  },
  {
   "cell_type": "markdown",
   "metadata": {},
   "source": [
    "__Load Libraries__"
   ]
  },
  {
   "cell_type": "code",
   "execution_count": null,
   "metadata": {},
   "outputs": [],
   "source": [
    "import pandas as pd\n",
    "import matplotlib\n",
    "import matplotlib.pyplot as plt\n",
    "import seaborn as sns\n",
    "import numpy as np\n",
    "import scipy.stats\n",
    "import random\n",
    "import wordcloud\n",
    "\n",
    "pd.options.display.max_rows = 999\n",
    "pd.options.display.max_columns = 999\n",
    "\n",
    "%matplotlib inline"
   ]
  },
  {
   "cell_type": "markdown",
   "metadata": {},
   "source": [
    "__Load Data File__"
   ]
  },
  {
   "cell_type": "code",
   "execution_count": null,
   "metadata": {},
   "outputs": [],
   "source": [
    "bbf_df = pd.read_csv(\"Data/Beat_Bobby_Flay_Wikipedia_Data.csv\", engine = \"python\")"
   ]
  },
  {
   "cell_type": "code",
   "execution_count": null,
   "metadata": {},
   "outputs": [],
   "source": [
    "bbf_df.info()"
   ]
  },
  {
   "cell_type": "markdown",
   "metadata": {},
   "source": [
    "## What dishes does Bobby most often win at?"
   ]
  },
  {
   "cell_type": "code",
   "execution_count": null,
   "metadata": {},
   "outputs": [],
   "source": [
    "# subset to the contests Bobby won\n",
    "winning_dishes = bbf_df.loc[bbf_df[\"BobbyDominates\"] == 1]\n",
    "\n",
    "# get the dishes column\n",
    "winning_dishes = winning_dishes[[\"SecondRoundDish\"]]\n",
    "\n",
    "# get all dishes into a string of text\n",
    "text = \" \".join(dish for dish in winning_dishes.SecondRoundDish)\n",
    "\n",
    "# Create and generate a word cloud image:\n",
    "# wc = wordcloud.WordCloud().generate(text)\n",
    "wc = wordcloud.WordCloud(max_font_size = 100, max_words = 100, background_color = \"black\").generate(text)\n",
    "\n",
    "# Display the generated image:\n",
    "plt.imshow(wc, interpolation='bilinear')\n",
    "plt.axis(\"off\")\n",
    "plt.show()"
   ]
  },
  {
   "cell_type": "markdown",
   "metadata": {},
   "source": [
    "## What dishes does Bobby most often lose at?"
   ]
  },
  {
   "cell_type": "code",
   "execution_count": null,
   "metadata": {},
   "outputs": [],
   "source": [
    "# subset to the contests Bobby won\n",
    "winning_dishes = bbf_df.loc[bbf_df[\"BobbyDominates\"] == 0]\n",
    "\n",
    "# get the dishes column\n",
    "winning_dishes = winning_dishes[[\"SecondRoundDish\"]]\n",
    "\n",
    "# get all dishes into a string of text\n",
    "text = \" \".join(dish for dish in winning_dishes.SecondRoundDish)\n",
    "\n",
    "# Create and generate a word cloud image:\n",
    "wc = wordcloud.WordCloud(max_font_size = 100, max_words = 100, background_color = \"black\").generate(text)\n",
    "\n",
    "# Display the generated image:\n",
    "plt.imshow(wc, interpolation='bilinear')\n",
    "plt.axis(\"off\")\n",
    "plt.show()"
   ]
  },
  {
   "cell_type": "markdown",
   "metadata": {},
   "source": [
    "As \"chicken\" and \"sandwich\" seem to be dishes that are commonly made in the Second Round, it's tough to make a decisive opinion on what Bobby is really good or bad at cooking. A few things that stick out are that in the WordCloud of dishes Bobby has won, he is good at cooking beef and pork, and in the WordCloud of dishes Bobby has lost, he is not good at baking (i.e. cake)."
   ]
  },
  {
   "cell_type": "markdown",
   "metadata": {},
   "source": [
    "## What is Bobby's overall record?"
   ]
  },
  {
   "cell_type": "markdown",
   "metadata": {},
   "source": [
    "186 - 111. \n",
    "\n",
    "63% of the time, Bobby wins. Honestly this is lower than I thought, but still very impressive."
   ]
  },
  {
   "cell_type": "code",
   "execution_count": null,
   "metadata": {},
   "outputs": [],
   "source": [
    "# create indicator for episodes where Bobby has won\n",
    "bbf_df[\"BobbyDominates\"] = np.where(bbf_df[\"SecondRoundWinner\"] == \"Bobby Flay\", 1, 0)\n",
    "\n",
    "# group by the indicator\n",
    "overall_record = bbf_df.groupby(\"BobbyDominates\").agg({\"BobbyDominates\":[\"count\"]})\n",
    "\n",
    "# exclude first level of multi-indexed columns resulting from the groupby\n",
    "overall_record.columns = overall_record.columns.droplevel(0)\n",
    "\n",
    "# rename the column\n",
    "overall_record.columns = [\"Results\"]\n",
    "\n",
    "# show results\n",
    "overall_record"
   ]
  },
  {
   "cell_type": "markdown",
   "metadata": {},
   "source": [
    "0 = Bobby Loses  \n",
    "1 = Bobby Dominates"
   ]
  },
  {
   "cell_type": "code",
   "execution_count": null,
   "metadata": {},
   "outputs": [],
   "source": [
    "print(\"Bobby's winning percentage: \", \n",
    "      (overall_record.iloc[1,0] / (overall_record.iloc[0,0] + overall_record.iloc[1,0])).round(2)*100, \"%\")"
   ]
  },
  {
   "cell_type": "markdown",
   "metadata": {},
   "source": [
    "## How has Bobby done over time?"
   ]
  },
  {
   "cell_type": "markdown",
   "metadata": {},
   "source": [
    "Bobby has only had three losing seasons, and one .500 season.\n",
    "\n",
    "Simply put, Bobby dominates. "
   ]
  },
  {
   "cell_type": "code",
   "execution_count": null,
   "metadata": {
    "scrolled": true
   },
   "outputs": [],
   "source": [
    "# get results by season\n",
    "seasonal_record = bbf_df.groupby([\"Season\"]).agg({\"BobbyDominates\":[\"mean\"]}).round(4)\n",
    "\n",
    "# reset the index\n",
    "seasonal_record.reset_index(inplace = True)\n",
    "\n",
    "# plot line graph\n",
    "fig = plt.figure(figsize=(15,4))\n",
    "ax1 = fig.add_subplot(111)\n",
    "\n",
    "ax1.plot(seasonal_record[\"Season\"], seasonal_record[(\"BobbyDominates\", \"mean\")],\n",
    "         color = \"c\",\n",
    "         marker = \"o\")\n",
    "ax1.axhline(y = 0.5, color = 'r', linestyle = '--')\n",
    "plt.xticks(seasonal_record[\"Season\"])\n",
    "plt.xlabel(\"Seasons\")\n",
    "plt.ylabel(\"Winning Percentage\")\n",
    "plt.title(\"Bobby Wins Most Episodes Most Seasons\")"
   ]
  },
  {
   "cell_type": "markdown",
   "metadata": {},
   "source": [
    "## Wich Guest has appeared on the show the most?"
   ]
  },
  {
   "cell_type": "markdown",
   "metadata": {},
   "source": [
    "Alex Guarnaschelli appears the most on the show."
   ]
  },
  {
   "cell_type": "code",
   "execution_count": null,
   "metadata": {},
   "outputs": [],
   "source": [
    "# split the Guests column into separate columns for every guest\n",
    "guests_df = pd.concat([bbf_df[\"Guests\"], bbf_df[\"Guests\"].str.split(',', expand = True)], axis = 1)\n",
    "\n",
    "# rename columns\n",
    "guests_df.columns = [\"Guests\",\"Guest1\",\"Guest2\",\"Guest3\"]\n",
    "\n",
    "# stack guests \n",
    "guests_series = pd.concat([guests_df[\"Guest1\"], \n",
    "                           guests_df[\"Guest2\"], \n",
    "                           guests_df[\"Guest3\"]],\n",
    "                          axis = 0).dropna() # axis = 0 for rows\n",
    "\n",
    "# strip whitespace so to not capture duplicates\n",
    "guests_series = guests_series.str.strip()\n",
    "\n",
    "# create dataframe\n",
    "guests_df = pd.DataFrame({'Guests':guests_series})\n",
    "\n",
    "# group by Guest and count\n",
    "guests_df_grp = guests_df.groupby(\"Guests\").agg({\"Guests\":[\"count\"]})\n",
    "\n",
    "# exclude first level of multi-indexed columns resulting from the groupby\n",
    "guests_df_grp.columns = guests_df_grp.columns.droplevel(0)\n",
    "\n",
    "# sort values\n",
    "guests_df_grp = guests_df_grp.sort_values(\"count\", ascending = False).reset_index()\n",
    "\n",
    "# rename the column\n",
    "guests_df_grp.columns = [\"Guest\", \"Appearances\"]\n",
    "\n",
    "# specify top quantile (0 to 1)\n",
    "quant = guests_df_grp.quantile(0.95)\n",
    "\n",
    "# show which Guests have made the most appearances\n",
    "guests_df_grp.loc[guests_df_grp[\"Appearances\"] >= quant[0], :]"
   ]
  },
  {
   "cell_type": "markdown",
   "metadata": {},
   "source": [
    "## What is the record of a Guest?"
   ]
  },
  {
   "cell_type": "markdown",
   "metadata": {},
   "source": [
    "This has nothing to do with who beats Bobby or how to beat Bobby, but the Guests joke about beating Bobby because their choice of contestant beats Bobby."
   ]
  },
  {
   "cell_type": "markdown",
   "metadata": {},
   "source": [
    "Only 25 Guests have appeared five or more times on the show. Of these Guests, Valerie Bertinelli has the best winning percentage against Bobby. Valeria and Giada are the only ones with winning records. \n",
    "\n",
    "Looks like Bobby really wants Marc Murphy and Debi Mazar to be Guests on the show."
   ]
  },
  {
   "cell_type": "code",
   "execution_count": null,
   "metadata": {},
   "outputs": [],
   "source": [
    "# create indicator for Guests winning\n",
    "bbf_df[\"GuestsDominate\"] = np.where(bbf_df[\"SecondRoundWinner\"] == \"Bobby Flay\", 0, 1)\n",
    "\n",
    "# split the Guests column into separate columns for every guest\n",
    "guests_record_df = pd.concat([bbf_df[\"Guests\"], bbf_df[\"Guests\"].str.split(',', expand = True)], axis = 1)\n",
    "\n",
    "# rename columns\n",
    "guests_record_df.columns = [\"Guests\",\"Guest1\",\"Guest2\",\"Guest3\"]\n",
    "\n",
    "# bind columns together\n",
    "guests_record_df = pd.concat([guests_record_df, bbf_df[\"GuestsDominate\"]], axis = 1)\n",
    "\n",
    "# get Guest1 and GuestsDominate indicator\n",
    "guest1_df = guests_record_df.loc[:, [\"Guest1\", \"GuestsDominate\"]]\n",
    "\n",
    "# get Guest2 and GuestsDominate indicator\n",
    "guest2_df = guests_record_df.loc[:, [\"Guest2\", \"GuestsDominate\"]]\n",
    "\n",
    "# get Guest3 and GuestsDominate indicator\n",
    "guest3_df = guests_record_df.loc[:, [\"Guest3\", \"GuestsDominate\"]]\n",
    "\n",
    "# rename columns so they could be stacked\n",
    "guest1_df.columns = [\"Guest\",\"GuestsDominate\"]\n",
    "guest2_df.columns = [\"Guest\",\"GuestsDominate\"]\n",
    "guest3_df.columns = [\"Guest\",\"GuestsDominate\"]\n",
    "\n",
    "# stack guests \n",
    "guests_record_df = pd.concat([guest1_df, \n",
    "                              guest2_df, \n",
    "                              guest3_df],\n",
    "                             axis = 0).dropna() # axis = 0 for rows\n",
    "\n",
    "# strip whitespace so to not capture duplicates\n",
    "guests_record_df[\"Guest\"] = guests_record_df[\"Guest\"].str.strip()\n",
    "\n",
    "# group by Guest and count\n",
    "guests_record_grp = guests_record_df.groupby(\"Guest\").agg({\"Guest\":[\"count\"], \"GuestsDominate\":[\"mean\"]})\n",
    "\n",
    "# exclude first level of multi-indexed columns resulting from the groupby\n",
    "guests_record_grp.columns = guests_record_grp.columns.droplevel(0)\n",
    "\n",
    "# rename the column\n",
    "guests_record_grp.columns = [\"Appearances\", \"Guest's Winning %\"]\n",
    "\n",
    "# show the top winning percentages for Guests who have appeared at least five times\n",
    "(guests_record_grp.loc[guests_record_grp[\"Appearances\"] >= 5, :]\n",
    " .sort_values(\"Guest's Winning %\", ascending = False)\n",
    " .reset_index())"
   ]
  },
  {
   "cell_type": "markdown",
   "metadata": {},
   "source": [
    "## What is Bobby's record against other Food Network personalities?"
   ]
  },
  {
   "cell_type": "markdown",
   "metadata": {},
   "source": [
    "Bobby has not beat a Guest/Food Network Personality.\n",
    "\n",
    "That may sound shocking, however, contestants get to pick what he/she and Bobby get to cook in the second round. Realistically, Bobby doesn't have a chance at winning against other world-renowned chefs and his/her respective world-renowned dishes. "
   ]
  },
  {
   "cell_type": "code",
   "execution_count": null,
   "metadata": {},
   "outputs": [],
   "source": [
    "# split the Guests column into separate columns for every guest\n",
    "guest_personalities_df = pd.concat([bbf_df[\"Guests\"],\n",
    "                                    bbf_df[\"Guests\"].str.split(',', expand = True)],\n",
    "                                   axis = 1) # axis = 1 for column bind\n",
    "\n",
    "# rename columns\n",
    "guest_personalities_df.columns = [\"Guests\",\"Guest1\",\"Guest2\",\"Guest3\"]\n",
    "\n",
    "# identify which episodes Bobby faces an Equal/Guest\n",
    "guest_personalities_df[\"BobbyFacesPersonality\"] = np.where(guest_personalities_df[\"Guest2\"].isnull(), 1, 0)\n",
    "\n",
    "# bind columns together\n",
    "guest_personalities_df = pd.concat([guest_personalities_df, \n",
    "                                    bbf_df[\"BobbyDominates\"],\n",
    "                                    bbf_df[\"SecondRoundWinner\"]],\n",
    "                                   axis = 1)\n",
    "\n",
    "# group by Food Network Personalities\n",
    "guest_personalities_df.groupby(\"BobbyFacesPersonality\").agg({\"BobbyDominates\":\"mean\"})"
   ]
  },
  {
   "cell_type": "code",
   "execution_count": null,
   "metadata": {},
   "outputs": [],
   "source": [
    "guest_personalities_df.loc[guest_personalities_df[\"BobbyFacesPersonality\"] == 1,\n",
    "                           [\"SecondRoundWinner\",\"BobbyDominates\"]]"
   ]
  },
  {
   "cell_type": "markdown",
   "metadata": {},
   "source": [
    "Looks like these chefs have Bobby's number. "
   ]
  },
  {
   "cell_type": "markdown",
   "metadata": {},
   "source": [
    "## Who are the chefs that have beat Bobby multiple times?"
   ]
  },
  {
   "cell_type": "markdown",
   "metadata": {},
   "source": [
    "Alex Guarnaschelli is the only chef to defeat Bobby TWICE!"
   ]
  },
  {
   "cell_type": "code",
   "execution_count": null,
   "metadata": {},
   "outputs": [],
   "source": [
    "# get wins by contestant\n",
    "mult_winner_grp = bbf_df.groupby(\"SecondRoundWinner\").agg({\"GuestsDominate\":[\"sum\"]})\n",
    "\n",
    "# exclude first level of multi-indexed columns resulting from the groupby\n",
    "mult_winner_grp.columns = mult_winner_grp.columns.droplevel(0)\n",
    "\n",
    "# rename columns\n",
    "mult_winner_grp.columns = [\"Wins\"]\n",
    "\n",
    "# show the contestants who have at least two wins\n",
    "(mult_winner_grp.loc[mult_winner_grp[\"Wins\"] > 1, :]\n",
    " .sort_values(\"Wins\", ascending = False)\n",
    " .reset_index())"
   ]
  },
  {
   "cell_type": "markdown",
   "metadata": {},
   "source": [
    "## What Judge has appeared the most on the show?"
   ]
  },
  {
   "cell_type": "markdown",
   "metadata": {},
   "source": [
    "Frank Prisinzano has appeared the most as a judge. "
   ]
  },
  {
   "cell_type": "code",
   "execution_count": null,
   "metadata": {},
   "outputs": [],
   "source": [
    "# split the Judges column into separate columns for every judge\n",
    "judges_df = pd.concat([bbf_df[\"SecondRoundJudges\"], \n",
    "                       bbf_df[\"SecondRoundJudges\"].str.split(',', expand = True)], axis = 1)\n",
    "\n",
    "# rename columns\n",
    "judges_df.columns = [\"Judges\",\"Judge1\",\"Judge2\",\"Judge3\"]\n",
    "\n",
    "# stack judges\n",
    "judges_series = pd.concat([judges_df[\"Judge1\"], \n",
    "                           judges_df[\"Judge2\"], \n",
    "                           judges_df[\"Judge3\"]],\n",
    "                          axis = 0).dropna() # axis = 0 for rows\n",
    "\n",
    "# strip whitespace so to not capture duplicates\n",
    "judges_series = judges_series.str.strip()\n",
    "\n",
    "# create dataframe\n",
    "judges_df = pd.DataFrame({'Judges': judges_series})\n",
    "\n",
    "# group by Judges and count\n",
    "judges_df_grp = judges_df.groupby(\"Judges\").agg({\"Judges\":[\"count\"]})\n",
    "\n",
    "# exclude first level of multi-indexed columns resulting from the groupby\n",
    "judges_df_grp.columns = judges_df_grp.columns.droplevel(0)\n",
    "\n",
    "# sort values\n",
    "judges_df_grp = judges_df_grp.sort_values(\"count\", ascending = False).reset_index()\n",
    "\n",
    "# rename columns\n",
    "judges_df_grp.columns = [\"Judge\",\"Appearances\"]\n",
    "\n",
    "# specify top quantile (0 to 1)\n",
    "quant = judges_df_grp.quantile(0.95)\n",
    "\n",
    "# show which Guests have made the most appearances\n",
    "judges_df_grp.loc[judges_df_grp[\"Appearances\"] >= quant[0], :]"
   ]
  },
  {
   "cell_type": "markdown",
   "metadata": {},
   "source": [
    "## Are there biased judges (for/against Bobby)?"
   ]
  },
  {
   "cell_type": "markdown",
   "metadata": {},
   "source": [
    "When Tricia Williams appears as a judge, it seems the contestant wins  more often. For 11 appearances, that seems like some pretty biased results. Of course, correlation does not mean causation, and 11 appearances isn't enough to statistically prove bias. However, Bobby would probably prefer to have Tricia appear less often on the show. "
   ]
  },
  {
   "cell_type": "code",
   "execution_count": null,
   "metadata": {},
   "outputs": [],
   "source": [
    "# split the Guests column into separate columns for every guest\n",
    "judges_record_df = pd.concat([bbf_df[\"SecondRoundJudges\"], \n",
    "                              bbf_df[\"SecondRoundJudges\"].str.split(',', expand = True)], axis = 1)\n",
    "\n",
    "# rename columns\n",
    "judges_record_df.columns = [\"Judges\",\"Judge1\",\"Judge2\",\"Judge3\"]\n",
    "\n",
    "# bind columns together\n",
    "judges_record_df = pd.concat([judges_record_df, bbf_df[\"GuestsDominate\"]], axis = 1)\n",
    "\n",
    "# get Judge1 and GuestsDominate indicator\n",
    "judge1_df = judges_record_df.loc[:, [\"Judge1\", \"GuestsDominate\"]]\n",
    "\n",
    "# get Judge2 and GuestsDominate indicator\n",
    "judge2_df = judges_record_df.loc[:, [\"Judge2\", \"GuestsDominate\"]]\n",
    "\n",
    "# get Judge3 and GuestsDominate indicator\n",
    "judge3_df = judges_record_df.loc[:, [\"Judge3\", \"GuestsDominate\"]]\n",
    "\n",
    "# rename columns so they could be stacked\n",
    "judge1_df.columns = [\"Judge\",\"GuestsDominate\"]\n",
    "judge2_df.columns = [\"Judge\",\"GuestsDominate\"]\n",
    "judge3_df.columns = [\"Judge\",\"GuestsDominate\"]\n",
    "\n",
    "# stack guests \n",
    "judges_record_df = pd.concat([judge1_df, \n",
    "                              judge2_df, \n",
    "                              judge3_df],\n",
    "                             axis = 0).dropna() # axis = 0 for rows\n",
    "\n",
    "# strip whitespace so to not capture duplicates\n",
    "judges_record_df[\"Judge\"] = judges_record_df[\"Judge\"].str.strip()\n",
    "\n",
    "# group by Judge and count\n",
    "judges_record_grp = judges_record_df.groupby(\"Judge\").agg({\"Judge\":[\"count\"], \"GuestsDominate\":[\"mean\"]})\n",
    "\n",
    "# exclude first level of multi-indexed columns resulting from the groupby\n",
    "judges_record_grp.columns = judges_record_grp.columns.droplevel(0)\n",
    "\n",
    "# rename columns\n",
    "judges_record_grp.columns = [\"Appearances\",\"Guest's Winning %\"]\n",
    "\n",
    "# show the top winning percentages for Judges who have appeared at least five times\n",
    "(judges_record_grp.loc[judges_record_grp[\"Appearances\"] >= 10, :]\n",
    " .sort_values(\"Guest's Winning %\", ascending = False)\n",
    " .reset_index())"
   ]
  },
  {
   "cell_type": "markdown",
   "metadata": {},
   "source": [
    "## How does Bobby do against contestants who have been judges?"
   ]
  },
  {
   "cell_type": "markdown",
   "metadata": {},
   "source": [
    "Bobby is more human than god when he faces off against a contestant who is a judge on the show. Contestants who are judges win about half the time. "
   ]
  },
  {
   "cell_type": "code",
   "execution_count": null,
   "metadata": {},
   "outputs": [],
   "source": [
    "# split the Guests column into separate columns for every guest\n",
    "contestant_record_df = pd.concat([bbf_df[\"FirstRoundContestants\"], \n",
    "                                  bbf_df[\"FirstRoundContestants\"].str.split(',', expand = True)], axis = 1)\n",
    "\n",
    "# rename columns\n",
    "contestant_record_df.columns = [\"Contestant\",\"Contestant1\",\"Contestant2\"]\n",
    "\n",
    "# # strip whitespace so to not capture duplicates\n",
    "# bbf_df[\"SecondRoundWinner\"] = bbf_df[\"SecondRoundWinner\"].str.strip()\n",
    "\n",
    "# bind columns together\n",
    "contestant_record_df = pd.concat([contestant_record_df, bbf_df[\"BobbyDominates\"]], axis = 1)\n",
    "\n",
    "# get Contestant1 and BobbyDominates indicator\n",
    "contestant1_df = contestant_record_df.loc[:, [\"Contestant1\", \"BobbyDominates\"]]\n",
    "\n",
    "# get Contestant2 and BobbyDominates indicator\n",
    "contestant2_df = contestant_record_df.loc[:, [\"Contestant2\", \"BobbyDominates\"]]\n",
    "\n",
    "# rename columns so they could be stacked\n",
    "contestant1_df.columns = [\"Contestant\",\"BobbyDominates\"]\n",
    "contestant2_df.columns = [\"Contestant\",\"BobbyDominates\"]\n",
    "\n",
    "# stack contestants\n",
    "contestant_record_df = pd.concat([contestant1_df, \n",
    "                                  contestant2_df],\n",
    "                                 axis = 0).dropna() # axis = 0 for rows\n",
    "\n",
    "# strip whitespace so to not capture duplicates\n",
    "contestant_record_df[\"Contestant\"] = contestant_record_df[\"Contestant\"].str.strip()\n",
    "\n",
    "# get a unique list of the judges\n",
    "judges_uniq_df = judges_df.drop_duplicates()\n",
    "\n",
    "# get contestants who have been judges (join)\n",
    "contestants_merged_df = pd.merge(contestant_record_df, judges_uniq_df,\n",
    "                                 left_on = \"Contestant\",\n",
    "                                 right_on = \"Judges\",\n",
    "                                 how = \"left\")\n",
    "\n",
    "# get contestants who have been judges (indicator)\n",
    "contestants_merged_df[\"IsJudge\"] = np.where(contestants_merged_df[\"Contestant\"] == \n",
    "                                            contestants_merged_df[\"Judges\"], \"Yes\", \"No\")\n",
    "\n",
    "# group by Judge and get winning percentage\n",
    "contestants_merged_df = contestants_merged_df.groupby(\"IsJudge\").agg({\"BobbyDominates\":[\"mean\"]})\n",
    "\n",
    "# exclude first level of multi-indexed columns resulting from the groupby\n",
    "contestants_merged_df.columns = contestants_merged_df.columns.droplevel(0)\n",
    "\n",
    "# rename columns\n",
    "contestants_merged_df.columns = [\"Contestant's Winning %\"]\n",
    "\n",
    "# show resulting table\n",
    "contestants_merged_df"
   ]
  }
 ],
 "metadata": {
  "kernelspec": {
   "display_name": "Python 3",
   "language": "python",
   "name": "python3"
  },
  "language_info": {
   "codemirror_mode": {
    "name": "ipython",
    "version": 3
   },
   "file_extension": ".py",
   "mimetype": "text/x-python",
   "name": "python",
   "nbconvert_exporter": "python",
   "pygments_lexer": "ipython3",
   "version": "3.7.4"
  }
 },
 "nbformat": 4,
 "nbformat_minor": 2
}
