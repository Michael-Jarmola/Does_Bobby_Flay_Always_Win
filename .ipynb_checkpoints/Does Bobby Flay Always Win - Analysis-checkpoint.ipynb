{
 "cells": [
  {
   "cell_type": "code",
   "execution_count": 49,
   "metadata": {},
   "outputs": [],
   "source": [
    "import pandas as pd\n",
    "import matplotlib\n",
    "import matplotlib.pyplot as plt\n",
    "import seaborn as sns\n",
    "import numpy as np\n",
    "import scipy.stats\n",
    "import random\n",
    "\n",
    "pd.options.display.max_rows = 999\n",
    "pd.options.display.max_columns = 999\n",
    "\n",
    "%matplotlib inline"
   ]
  },
  {
   "cell_type": "code",
   "execution_count": 50,
   "metadata": {},
   "outputs": [],
   "source": [
    "bbf_df = pd.read_csv(\"Data/Beat_Bobby_Flay_Wikipedia_Data.csv\", engine = \"python\")"
   ]
  },
  {
   "cell_type": "code",
   "execution_count": 51,
   "metadata": {},
   "outputs": [
    {
     "name": "stdout",
     "output_type": "stream",
     "text": [
      "<class 'pandas.core.frame.DataFrame'>\n",
      "RangeIndex: 297 entries, 0 to 296\n",
      "Data columns (total 11 columns):\n",
      "SeriesEpisodeNumber      297 non-null int64\n",
      "Season                   297 non-null int64\n",
      "SeasonEpisodeNumber      297 non-null int64\n",
      "Title                    297 non-null object\n",
      "OriginalAirdate          297 non-null object\n",
      "Guests                   297 non-null object\n",
      "FirstRoundIngredient     297 non-null object\n",
      "FirstRoundContestants    297 non-null object\n",
      "SecondRoundJudges        297 non-null object\n",
      "SecondRoundDish          297 non-null object\n",
      "SecondRoundWinner        297 non-null object\n",
      "dtypes: int64(3), object(8)\n",
      "memory usage: 25.6+ KB\n"
     ]
    }
   ],
   "source": [
    "bbf_df.info()"
   ]
  },
  {
   "cell_type": "code",
   "execution_count": null,
   "metadata": {},
   "outputs": [],
   "source": [
    "# df_obj = bbf_df.select_dtypes(['object']) # identify object columns\n",
    "# bbf_df[df_obj.columns] = df_obj.apply(lambda x: x.str.strip()) # Strip whitespace for object columns."
   ]
  },
  {
   "cell_type": "markdown",
   "metadata": {},
   "source": [
    "### What is Bobby's overall record?"
   ]
  },
  {
   "cell_type": "markdown",
   "metadata": {},
   "source": [
    "Create flag for `SecondRoundWinner`"
   ]
  },
  {
   "cell_type": "markdown",
   "metadata": {},
   "source": [
    "0 = Bobby Lost\n",
    "\n",
    "1 = Bobby Dominates"
   ]
  },
  {
   "cell_type": "code",
   "execution_count": 52,
   "metadata": {},
   "outputs": [],
   "source": [
    "bbf_df[\"BobbyDominates\"] = np.where(bbf_df[\"SecondRoundWinner\"] == \"Bobby Flay\", 1, 0)"
   ]
  },
  {
   "cell_type": "code",
   "execution_count": 53,
   "metadata": {},
   "outputs": [
    {
     "data": {
      "text/html": [
       "<div>\n",
       "<style scoped>\n",
       "    .dataframe tbody tr th:only-of-type {\n",
       "        vertical-align: middle;\n",
       "    }\n",
       "\n",
       "    .dataframe tbody tr th {\n",
       "        vertical-align: top;\n",
       "    }\n",
       "\n",
       "    .dataframe thead tr th {\n",
       "        text-align: left;\n",
       "    }\n",
       "\n",
       "    .dataframe thead tr:last-of-type th {\n",
       "        text-align: right;\n",
       "    }\n",
       "</style>\n",
       "<table border=\"1\" class=\"dataframe\">\n",
       "  <thead>\n",
       "    <tr>\n",
       "      <th></th>\n",
       "      <th>BobbyDominates</th>\n",
       "    </tr>\n",
       "    <tr>\n",
       "      <th></th>\n",
       "      <th>count</th>\n",
       "    </tr>\n",
       "    <tr>\n",
       "      <th>BobbyDominates</th>\n",
       "      <th></th>\n",
       "    </tr>\n",
       "  </thead>\n",
       "  <tbody>\n",
       "    <tr>\n",
       "      <td>0</td>\n",
       "      <td>111</td>\n",
       "    </tr>\n",
       "    <tr>\n",
       "      <td>1</td>\n",
       "      <td>186</td>\n",
       "    </tr>\n",
       "  </tbody>\n",
       "</table>\n",
       "</div>"
      ],
      "text/plain": [
       "               BobbyDominates\n",
       "                        count\n",
       "BobbyDominates               \n",
       "0                         111\n",
       "1                         186"
      ]
     },
     "execution_count": 53,
     "metadata": {},
     "output_type": "execute_result"
    }
   ],
   "source": [
    "overall_record = bbf_df.groupby(\"BobbyDominates\").agg({\"BobbyDominates\":[\"count\"]})\n",
    "overall_record"
   ]
  },
  {
   "cell_type": "code",
   "execution_count": 54,
   "metadata": {},
   "outputs": [
    {
     "name": "stdout",
     "output_type": "stream",
     "text": [
      "Bobby's winning percentage:  63.0 %\n"
     ]
    }
   ],
   "source": [
    "print(\"Bobby's winning percentage: \", \n",
    "      (overall_record.iloc[1,0] / (overall_record.iloc[0,0] + overall_record.iloc[1,0])).round(2)*100, \"%\")"
   ]
  },
  {
   "cell_type": "markdown",
   "metadata": {},
   "source": [
    "63% is honestly lower than I thought, but still very impressive."
   ]
  },
  {
   "cell_type": "markdown",
   "metadata": {},
   "source": [
    "### How has Bobby done over time?"
   ]
  },
  {
   "cell_type": "code",
   "execution_count": 7,
   "metadata": {},
   "outputs": [],
   "source": [
    "# get results within a season\n",
    "seasonal_record = bbf_df.groupby([\"Season\"]).agg({\"BobbyDominates\":[\"mean\"]}).round(4)\n",
    "seasonal_record.reset_index(inplace = True)\n",
    "# print(seasonal_record.columns)"
   ]
  },
  {
   "cell_type": "code",
   "execution_count": 8,
   "metadata": {
    "scrolled": true
   },
   "outputs": [
    {
     "data": {
      "text/plain": [
       "Text(0.5, 1.0, 'Bobby Wins Most Episodes Most Seasons')"
      ]
     },
     "execution_count": 8,
     "metadata": {},
     "output_type": "execute_result"
    },
    {
     "data": {
      "image/png": "[encoded data removed]",
      "text/plain": [
       "<Figure size 1080x288 with 1 Axes>"
      ]
     },
     "metadata": {
      "needs_background": "light"
     },
     "output_type": "display_data"
    }
   ],
   "source": [
    "fig = plt.figure(figsize=(15,4))\n",
    "ax1 = fig.add_subplot(111)\n",
    "\n",
    "ax1.plot(seasonal_record[\"Season\"], seasonal_record[(\"BobbyDominates\", \"mean\")],\n",
    "         color = \"c\",\n",
    "         marker = \"o\")\n",
    "ax1.axhline(y = 0.5, color = 'r', linestyle = '--')\n",
    "plt.xticks(seasonal_record[\"Season\"])\n",
    "plt.xlabel(\"Seasons\")\n",
    "plt.ylabel(\"Win Percentage\")\n",
    "plt.title(\"Bobby Wins Most Episodes Most Seasons\")"
   ]
  },
  {
   "cell_type": "markdown",
   "metadata": {},
   "source": [
    "Bobby has only had three losing seasons, and one .500 season.\n",
    "\n",
    "Simply put, Bobby dominates. "
   ]
  },
  {
   "cell_type": "markdown",
   "metadata": {},
   "source": [
    "### Wich Guest has appeared on the show the most?"
   ]
  },
  {
   "cell_type": "code",
   "execution_count": 9,
   "metadata": {},
   "outputs": [
    {
     "data": {
      "text/html": [
       "<div>\n",
       "<style scoped>\n",
       "    .dataframe tbody tr th:only-of-type {\n",
       "        vertical-align: middle;\n",
       "    }\n",
       "\n",
       "    .dataframe tbody tr th {\n",
       "        vertical-align: top;\n",
       "    }\n",
       "\n",
       "    .dataframe thead th {\n",
       "        text-align: right;\n",
       "    }\n",
       "</style>\n",
       "<table border=\"1\" class=\"dataframe\">\n",
       "  <thead>\n",
       "    <tr style=\"text-align: right;\">\n",
       "      <th></th>\n",
       "      <th>Guests</th>\n",
       "      <th>count</th>\n",
       "    </tr>\n",
       "  </thead>\n",
       "  <tbody>\n",
       "    <tr>\n",
       "      <td>0</td>\n",
       "      <td>Alex Guarnaschelli</td>\n",
       "      <td>45</td>\n",
       "    </tr>\n",
       "    <tr>\n",
       "      <td>1</td>\n",
       "      <td>Scott Conant</td>\n",
       "      <td>36</td>\n",
       "    </tr>\n",
       "    <tr>\n",
       "      <td>2</td>\n",
       "      <td>Anne Burrell</td>\n",
       "      <td>35</td>\n",
       "    </tr>\n",
       "    <tr>\n",
       "      <td>3</td>\n",
       "      <td>Katie Lee</td>\n",
       "      <td>35</td>\n",
       "    </tr>\n",
       "    <tr>\n",
       "      <td>4</td>\n",
       "      <td>Sunny Anderson</td>\n",
       "      <td>34</td>\n",
       "    </tr>\n",
       "    <tr>\n",
       "      <td>5</td>\n",
       "      <td>Michael Symon</td>\n",
       "      <td>30</td>\n",
       "    </tr>\n",
       "    <tr>\n",
       "      <td>6</td>\n",
       "      <td>Geoffrey Zakarian</td>\n",
       "      <td>23</td>\n",
       "    </tr>\n",
       "    <tr>\n",
       "      <td>7</td>\n",
       "      <td>Ted Allen</td>\n",
       "      <td>19</td>\n",
       "    </tr>\n",
       "    <tr>\n",
       "      <td>8</td>\n",
       "      <td>Amanda Freitag</td>\n",
       "      <td>14</td>\n",
       "    </tr>\n",
       "    <tr>\n",
       "      <td>9</td>\n",
       "      <td>Giada De Laurentiis</td>\n",
       "      <td>14</td>\n",
       "    </tr>\n",
       "  </tbody>\n",
       "</table>\n",
       "</div>"
      ],
      "text/plain": [
       "                Guests  count\n",
       "0   Alex Guarnaschelli     45\n",
       "1         Scott Conant     36\n",
       "2         Anne Burrell     35\n",
       "3            Katie Lee     35\n",
       "4       Sunny Anderson     34\n",
       "5        Michael Symon     30\n",
       "6    Geoffrey Zakarian     23\n",
       "7            Ted Allen     19\n",
       "8       Amanda Freitag     14\n",
       "9  Giada De Laurentiis     14"
      ]
     },
     "execution_count": 9,
     "metadata": {},
     "output_type": "execute_result"
    }
   ],
   "source": [
    "# split the Guests column into separate columns for every guest\n",
    "guests_df = pd.concat([bbf_df[\"Guests\"], bbf_df[\"Guests\"].str.split(',', expand = True)], axis = 1)\n",
    "\n",
    "# rename columns\n",
    "guests_df.columns = [\"Guests\",\"Guest1\",\"Guest2\",\"Guest3\"]\n",
    "\n",
    "# stack guests \n",
    "guests_series = pd.concat([guests_df[\"Guest1\"], \n",
    "                           guests_df[\"Guest2\"], \n",
    "                           guests_df[\"Guest3\"]],\n",
    "                          axis = 0).dropna() # axis = 0 for rows\n",
    "\n",
    "# strip whitespace so to not capture duplicates\n",
    "guests_series = guests_series.str.strip()\n",
    "\n",
    "# create dataframe\n",
    "guests_df = pd.DataFrame({'Guests':guests_series})\n",
    "\n",
    "# group by Guest and count\n",
    "guests_df_grp = guests_df.groupby(\"Guests\").agg({\"Guests\":[\"count\"]})\n",
    "\n",
    "# exclude first level of multi-indexed columns resulting from the groupby\n",
    "guests_df_grp.columns = guests_df_grp.columns.droplevel(0)\n",
    "\n",
    "# sort values\n",
    "guests_df_grp = guests_df_grp.sort_values(\"count\", ascending = False).reset_index()\n",
    "\n",
    "# specify top quantile (0 to 1)\n",
    "quant = guests_df_grp.quantile(0.95)\n",
    "\n",
    "# show which Guests have made the most appearances\n",
    "guests_df_grp.loc[guests_df_grp[\"count\"] >= quant[0], :]"
   ]
  },
  {
   "cell_type": "code",
   "execution_count": null,
   "metadata": {},
   "outputs": [],
   "source": [
    "plt.figure(figsize=(15,10))\n",
    "country.size().sort_values(ascending=False).plot.bar()\n",
    "plt.xticks(rotation=50)\n",
    "plt.xlabel(\"Country of Origin\")\n",
    "plt.ylabel(\"Number of Wines\")\n",
    "plt.show()"
   ]
  },
  {
   "cell_type": "code",
   "execution_count": null,
   "metadata": {},
   "outputs": [],
   "source": [
    "# subset to the contests Bobby won\n",
    "winning_dishes = bbf_df.loc[bbf_df[\"BobbyDominates\"] == 1]\n",
    "\n",
    "# get the dishes column\n",
    "winning_dishes = winning_dishes[[\"SecondRoundDish\"]]\n",
    "\n",
    "# get all dishes into a string of text\n",
    "text = \" \".join(dish for dish in winning_dishes.SecondRoundDish)\n",
    "\n",
    "# Create and generate a word cloud image:\n",
    "# wc = wordcloud.WordCloud().generate(text)\n",
    "wc = wordcloud.WordCloud(max_font_size = 100, max_words = 100, background_color = \"black\").generate(text)\n",
    "\n",
    "# Display the generated image:\n",
    "plt.imshow(wc, interpolation='bilinear')\n",
    "plt.axis(\"off\")\n",
    "plt.show()"
   ]
  },
  {
   "cell_type": "code",
   "execution_count": null,
   "metadata": {},
   "outputs": [],
   "source": []
  },
  {
   "cell_type": "markdown",
   "metadata": {},
   "source": [
    "Alex Guarnaschelli appears the most on the show."
   ]
  },
  {
   "cell_type": "markdown",
   "metadata": {},
   "source": [
    "### What is the record of a Guest?"
   ]
  },
  {
   "cell_type": "markdown",
   "metadata": {},
   "source": [
    "This has nothing to do with who beats Bobby, but the guests joke about beating Bobby because their choice of contestant beats Bobby."
   ]
  },
  {
   "cell_type": "markdown",
   "metadata": {},
   "source": [
    "take the split columns of Guests from above and the Bobby Dominated indicator\n",
    "\n",
    "union only the Guests columns and Bobby win indicator column\n",
    "\n",
    "groupby by Guests and count/mean Yes's/1s\n",
    "\n",
    "can do a bar chat of win percentages by a Guest"
   ]
  },
  {
   "cell_type": "code",
   "execution_count": 10,
   "metadata": {},
   "outputs": [
    {
     "data": {
      "text/html": [
       "<div>\n",
       "<style scoped>\n",
       "    .dataframe tbody tr th:only-of-type {\n",
       "        vertical-align: middle;\n",
       "    }\n",
       "\n",
       "    .dataframe tbody tr th {\n",
       "        vertical-align: top;\n",
       "    }\n",
       "\n",
       "    .dataframe thead th {\n",
       "        text-align: right;\n",
       "    }\n",
       "</style>\n",
       "<table border=\"1\" class=\"dataframe\">\n",
       "  <thead>\n",
       "    <tr style=\"text-align: right;\">\n",
       "      <th></th>\n",
       "      <th>Guest</th>\n",
       "      <th>count</th>\n",
       "      <th>mean</th>\n",
       "    </tr>\n",
       "  </thead>\n",
       "  <tbody>\n",
       "    <tr>\n",
       "      <td>0</td>\n",
       "      <td>Valerie Bertinelli</td>\n",
       "      <td>5</td>\n",
       "      <td>0.600000</td>\n",
       "    </tr>\n",
       "    <tr>\n",
       "      <td>1</td>\n",
       "      <td>Giada De Laurentiis</td>\n",
       "      <td>14</td>\n",
       "      <td>0.571429</td>\n",
       "    </tr>\n",
       "    <tr>\n",
       "      <td>2</td>\n",
       "      <td>Sunny Anderson</td>\n",
       "      <td>34</td>\n",
       "      <td>0.470588</td>\n",
       "    </tr>\n",
       "    <tr>\n",
       "      <td>3</td>\n",
       "      <td>Damaris Phillips</td>\n",
       "      <td>11</td>\n",
       "      <td>0.454545</td>\n",
       "    </tr>\n",
       "    <tr>\n",
       "      <td>4</td>\n",
       "      <td>Michael Voltaggio</td>\n",
       "      <td>11</td>\n",
       "      <td>0.454545</td>\n",
       "    </tr>\n",
       "    <tr>\n",
       "      <td>5</td>\n",
       "      <td>Jeff Mauro</td>\n",
       "      <td>7</td>\n",
       "      <td>0.428571</td>\n",
       "    </tr>\n",
       "    <tr>\n",
       "      <td>6</td>\n",
       "      <td>Alex Guarnaschelli</td>\n",
       "      <td>45</td>\n",
       "      <td>0.422222</td>\n",
       "    </tr>\n",
       "    <tr>\n",
       "      <td>7</td>\n",
       "      <td>Ted Allen</td>\n",
       "      <td>19</td>\n",
       "      <td>0.421053</td>\n",
       "    </tr>\n",
       "    <tr>\n",
       "      <td>8</td>\n",
       "      <td>Carla Hall</td>\n",
       "      <td>10</td>\n",
       "      <td>0.400000</td>\n",
       "    </tr>\n",
       "    <tr>\n",
       "      <td>9</td>\n",
       "      <td>Michael Symon</td>\n",
       "      <td>30</td>\n",
       "      <td>0.400000</td>\n",
       "    </tr>\n",
       "    <tr>\n",
       "      <td>10</td>\n",
       "      <td>Scott Conant</td>\n",
       "      <td>36</td>\n",
       "      <td>0.388889</td>\n",
       "    </tr>\n",
       "    <tr>\n",
       "      <td>11</td>\n",
       "      <td>Eddie Jackson</td>\n",
       "      <td>8</td>\n",
       "      <td>0.375000</td>\n",
       "    </tr>\n",
       "    <tr>\n",
       "      <td>12</td>\n",
       "      <td>Amanda Freitag</td>\n",
       "      <td>14</td>\n",
       "      <td>0.357143</td>\n",
       "    </tr>\n",
       "    <tr>\n",
       "      <td>13</td>\n",
       "      <td>Anne Burrell</td>\n",
       "      <td>35</td>\n",
       "      <td>0.342857</td>\n",
       "    </tr>\n",
       "    <tr>\n",
       "      <td>14</td>\n",
       "      <td>Simon Majumdar</td>\n",
       "      <td>13</td>\n",
       "      <td>0.307692</td>\n",
       "    </tr>\n",
       "    <tr>\n",
       "      <td>15</td>\n",
       "      <td>Geoffrey Zakarian</td>\n",
       "      <td>23</td>\n",
       "      <td>0.304348</td>\n",
       "    </tr>\n",
       "    <tr>\n",
       "      <td>16</td>\n",
       "      <td>Laura Vitale</td>\n",
       "      <td>7</td>\n",
       "      <td>0.285714</td>\n",
       "    </tr>\n",
       "    <tr>\n",
       "      <td>17</td>\n",
       "      <td>Alton Brown</td>\n",
       "      <td>11</td>\n",
       "      <td>0.272727</td>\n",
       "    </tr>\n",
       "    <tr>\n",
       "      <td>18</td>\n",
       "      <td>Jet Tila</td>\n",
       "      <td>11</td>\n",
       "      <td>0.272727</td>\n",
       "    </tr>\n",
       "    <tr>\n",
       "      <td>19</td>\n",
       "      <td>Katie Lee</td>\n",
       "      <td>35</td>\n",
       "      <td>0.257143</td>\n",
       "    </tr>\n",
       "    <tr>\n",
       "      <td>20</td>\n",
       "      <td>Daphne Oz</td>\n",
       "      <td>13</td>\n",
       "      <td>0.230769</td>\n",
       "    </tr>\n",
       "    <tr>\n",
       "      <td>21</td>\n",
       "      <td>Curtis Stone</td>\n",
       "      <td>6</td>\n",
       "      <td>0.166667</td>\n",
       "    </tr>\n",
       "    <tr>\n",
       "      <td>22</td>\n",
       "      <td>Josh Capon</td>\n",
       "      <td>8</td>\n",
       "      <td>0.125000</td>\n",
       "    </tr>\n",
       "    <tr>\n",
       "      <td>23</td>\n",
       "      <td>Marc Murphy</td>\n",
       "      <td>6</td>\n",
       "      <td>0.000000</td>\n",
       "    </tr>\n",
       "    <tr>\n",
       "      <td>24</td>\n",
       "      <td>Debi Mazar</td>\n",
       "      <td>7</td>\n",
       "      <td>0.000000</td>\n",
       "    </tr>\n",
       "  </tbody>\n",
       "</table>\n",
       "</div>"
      ],
      "text/plain": [
       "                  Guest  count      mean\n",
       "0    Valerie Bertinelli      5  0.600000\n",
       "1   Giada De Laurentiis     14  0.571429\n",
       "2        Sunny Anderson     34  0.470588\n",
       "3      Damaris Phillips     11  0.454545\n",
       "4     Michael Voltaggio     11  0.454545\n",
       "5            Jeff Mauro      7  0.428571\n",
       "6    Alex Guarnaschelli     45  0.422222\n",
       "7             Ted Allen     19  0.421053\n",
       "8            Carla Hall     10  0.400000\n",
       "9         Michael Symon     30  0.400000\n",
       "10         Scott Conant     36  0.388889\n",
       "11        Eddie Jackson      8  0.375000\n",
       "12       Amanda Freitag     14  0.357143\n",
       "13         Anne Burrell     35  0.342857\n",
       "14       Simon Majumdar     13  0.307692\n",
       "15    Geoffrey Zakarian     23  0.304348\n",
       "16         Laura Vitale      7  0.285714\n",
       "17          Alton Brown     11  0.272727\n",
       "18             Jet Tila     11  0.272727\n",
       "19            Katie Lee     35  0.257143\n",
       "20            Daphne Oz     13  0.230769\n",
       "21         Curtis Stone      6  0.166667\n",
       "22           Josh Capon      8  0.125000\n",
       "23          Marc Murphy      6  0.000000\n",
       "24           Debi Mazar      7  0.000000"
      ]
     },
     "execution_count": 10,
     "metadata": {},
     "output_type": "execute_result"
    }
   ],
   "source": [
    "# create indicator for Guests winning\n",
    "bbf_df[\"GuestsDominate\"] = np.where(bbf_df[\"SecondRoundWinner\"] == \"Bobby Flay\", 0, 1)\n",
    "\n",
    "# split the Guests column into separate columns for every guest\n",
    "guests_record_df = pd.concat([bbf_df[\"Guests\"], bbf_df[\"Guests\"].str.split(',', expand = True)], axis = 1)\n",
    "\n",
    "# rename columns\n",
    "guests_record_df.columns = [\"Guests\",\"Guest1\",\"Guest2\",\"Guest3\"]\n",
    "\n",
    "# bind columns together\n",
    "guests_record_df = pd.concat([guests_record_df, bbf_df[\"GuestsDominate\"]], axis = 1)\n",
    "\n",
    "# get Guest1 and GuestsDominate indicator\n",
    "guest1_df = guests_record_df.loc[:, [\"Guest1\", \"GuestsDominate\"]]\n",
    "\n",
    "# get Guest2 and GuestsDominate indicator\n",
    "guest2_df = guests_record_df.loc[:, [\"Guest2\", \"GuestsDominate\"]]\n",
    "\n",
    "# get Guest3 and GuestsDominate indicator\n",
    "guest3_df = guests_record_df.loc[:, [\"Guest3\", \"GuestsDominate\"]]\n",
    "\n",
    "# rename columns so they could be stacked\n",
    "guest1_df.columns = [\"Guest\",\"GuestsDominate\"]\n",
    "guest2_df.columns = [\"Guest\",\"GuestsDominate\"]\n",
    "guest3_df.columns = [\"Guest\",\"GuestsDominate\"]\n",
    "\n",
    "# stack guests \n",
    "guests_record_df = pd.concat([guest1_df, \n",
    "                              guest2_df, \n",
    "                              guest3_df],\n",
    "                             axis = 0).dropna() # axis = 0 for rows\n",
    "\n",
    "# strip whitespace so to not capture duplicates\n",
    "guests_record_df[\"Guest\"] = guests_record_df[\"Guest\"].str.strip()\n",
    "\n",
    "# group by Guest and count\n",
    "guests_record_grp = guests_record_df.groupby(\"Guest\").agg({\"Guest\":[\"count\"], \"GuestsDominate\":[\"mean\"]})\n",
    "\n",
    "# exclude first level of multi-indexed columns resulting from the groupby\n",
    "guests_record_grp.columns = guests_record_grp.columns.droplevel(0)\n",
    "\n",
    "# show the top winning percentages for Guests who have appeared at least five times\n",
    "(guests_record_grp.loc[guests_record_grp[\"count\"] >= 5, :]\n",
    " .sort_values(\"mean\", ascending = False)\n",
    " .reset_index())"
   ]
  },
  {
   "cell_type": "markdown",
   "metadata": {},
   "source": [
    "Only 25 Guests have appeared five or more times on the show. Of these Guests, Valerie Bertinelli has the best winning percentage against Bobby. Valeria and Giada are the only ones with winning records. \n",
    "\n",
    "Looks like Bobby really wants Marc Murphy and Debi Mazar to be Guests on the show."
   ]
  },
  {
   "cell_type": "code",
   "execution_count": null,
   "metadata": {},
   "outputs": [],
   "source": []
  },
  {
   "cell_type": "code",
   "execution_count": null,
   "metadata": {},
   "outputs": [],
   "source": []
  },
  {
   "cell_type": "code",
   "execution_count": 11,
   "metadata": {},
   "outputs": [
    {
     "data": {
      "text/html": [
       "<div>\n",
       "<style scoped>\n",
       "    .dataframe tbody tr th:only-of-type {\n",
       "        vertical-align: middle;\n",
       "    }\n",
       "\n",
       "    .dataframe tbody tr th {\n",
       "        vertical-align: top;\n",
       "    }\n",
       "\n",
       "    .dataframe thead th {\n",
       "        text-align: right;\n",
       "    }\n",
       "</style>\n",
       "<table border=\"1\" class=\"dataframe\">\n",
       "  <thead>\n",
       "    <tr style=\"text-align: right;\">\n",
       "      <th></th>\n",
       "      <th>Guest</th>\n",
       "      <th>GuestsDominate</th>\n",
       "    </tr>\n",
       "  </thead>\n",
       "  <tbody>\n",
       "    <tr>\n",
       "      <td>3</td>\n",
       "      <td>Alex Guarnaschelli</td>\n",
       "      <td>1</td>\n",
       "    </tr>\n",
       "    <tr>\n",
       "      <td>6</td>\n",
       "      <td>Alex Guarnaschelli</td>\n",
       "      <td>0</td>\n",
       "    </tr>\n",
       "    <tr>\n",
       "      <td>59</td>\n",
       "      <td>Donatella Arpaia</td>\n",
       "      <td>1</td>\n",
       "    </tr>\n",
       "    <tr>\n",
       "      <td>67</td>\n",
       "      <td>Katie Lee</td>\n",
       "      <td>0</td>\n",
       "    </tr>\n",
       "  </tbody>\n",
       "</table>\n",
       "</div>"
      ],
      "text/plain": [
       "                 Guest  GuestsDominate\n",
       "3   Alex Guarnaschelli               1\n",
       "6   Alex Guarnaschelli               0\n",
       "59    Donatella Arpaia               1\n",
       "67           Katie Lee               0"
      ]
     },
     "execution_count": 11,
     "metadata": {},
     "output_type": "execute_result"
    }
   ],
   "source": [
    "guests_record_df.iloc[[3,6, 59, 67], :]"
   ]
  },
  {
   "cell_type": "code",
   "execution_count": null,
   "metadata": {},
   "outputs": [],
   "source": []
  },
  {
   "cell_type": "code",
   "execution_count": null,
   "metadata": {},
   "outputs": [],
   "source": []
  },
  {
   "cell_type": "markdown",
   "metadata": {},
   "source": [
    "### What is Bobby's record against other Food Network personalities?"
   ]
  },
  {
   "cell_type": "code",
   "execution_count": 13,
   "metadata": {},
   "outputs": [
    {
     "data": {
      "text/html": [
       "<div>\n",
       "<style scoped>\n",
       "    .dataframe tbody tr th:only-of-type {\n",
       "        vertical-align: middle;\n",
       "    }\n",
       "\n",
       "    .dataframe tbody tr th {\n",
       "        vertical-align: top;\n",
       "    }\n",
       "\n",
       "    .dataframe thead th {\n",
       "        text-align: right;\n",
       "    }\n",
       "</style>\n",
       "<table border=\"1\" class=\"dataframe\">\n",
       "  <thead>\n",
       "    <tr style=\"text-align: right;\">\n",
       "      <th></th>\n",
       "      <th>BobbyDominates</th>\n",
       "    </tr>\n",
       "    <tr>\n",
       "      <th>BobbyFacesPersonality</th>\n",
       "      <th></th>\n",
       "    </tr>\n",
       "  </thead>\n",
       "  <tbody>\n",
       "    <tr>\n",
       "      <td>0</td>\n",
       "      <td>0.641379</td>\n",
       "    </tr>\n",
       "    <tr>\n",
       "      <td>1</td>\n",
       "      <td>0.000000</td>\n",
       "    </tr>\n",
       "  </tbody>\n",
       "</table>\n",
       "</div>"
      ],
      "text/plain": [
       "                       BobbyDominates\n",
       "BobbyFacesPersonality                \n",
       "0                            0.641379\n",
       "1                            0.000000"
      ]
     },
     "execution_count": 13,
     "metadata": {},
     "output_type": "execute_result"
    }
   ],
   "source": [
    "# split the Guests column into separate columns for every guest\n",
    "guest_personalities_df = pd.concat([bbf_df[\"Guests\"],\n",
    "                                    bbf_df[\"Guests\"].str.split(',', expand = True)],\n",
    "                                   axis = 1) # axis = 1 for column bind\n",
    "\n",
    "# rename columns\n",
    "guest_personalities_df.columns = [\"Guests\",\"Guest1\",\"Guest2\",\"Guest3\"]\n",
    "\n",
    "# identify which episodes Bobby faces an Equal/Guest\n",
    "guest_personalities_df[\"BobbyFacesPersonality\"] = np.where(guest_personalities_df[\"Guest2\"].isnull(), 1, 0)\n",
    "\n",
    "# bind columns together\n",
    "guest_personalities_df = pd.concat([guest_personalities_df, \n",
    "                                    bbf_df[\"BobbyDominates\"],\n",
    "                                    bbf_df[\"SecondRoundWinner\"]],\n",
    "                                   axis = 1)\n",
    "\n",
    "guest_personalities_df.groupby(\"BobbyFacesPersonality\").agg({\"BobbyDominates\":\"mean\"})"
   ]
  },
  {
   "cell_type": "markdown",
   "metadata": {},
   "source": [
    "Bobby has not beat a Guest/Foodnetwork Personality."
   ]
  },
  {
   "cell_type": "code",
   "execution_count": 14,
   "metadata": {},
   "outputs": [
    {
     "data": {
      "text/html": [
       "<div>\n",
       "<style scoped>\n",
       "    .dataframe tbody tr th:only-of-type {\n",
       "        vertical-align: middle;\n",
       "    }\n",
       "\n",
       "    .dataframe tbody tr th {\n",
       "        vertical-align: top;\n",
       "    }\n",
       "\n",
       "    .dataframe thead th {\n",
       "        text-align: right;\n",
       "    }\n",
       "</style>\n",
       "<table border=\"1\" class=\"dataframe\">\n",
       "  <thead>\n",
       "    <tr style=\"text-align: right;\">\n",
       "      <th></th>\n",
       "      <th>SecondRoundWinner</th>\n",
       "      <th>BobbyDominates</th>\n",
       "    </tr>\n",
       "  </thead>\n",
       "  <tbody>\n",
       "    <tr>\n",
       "      <td>81</td>\n",
       "      <td>Alex Guarnaschelli</td>\n",
       "      <td>0</td>\n",
       "    </tr>\n",
       "    <tr>\n",
       "      <td>94</td>\n",
       "      <td>Anne Burrell</td>\n",
       "      <td>0</td>\n",
       "    </tr>\n",
       "    <tr>\n",
       "      <td>139</td>\n",
       "      <td>Alex Guarnaschelli</td>\n",
       "      <td>0</td>\n",
       "    </tr>\n",
       "    <tr>\n",
       "      <td>140</td>\n",
       "      <td>Damaris Phillips</td>\n",
       "      <td>0</td>\n",
       "    </tr>\n",
       "    <tr>\n",
       "      <td>141</td>\n",
       "      <td>Marcus Samuelsson</td>\n",
       "      <td>0</td>\n",
       "    </tr>\n",
       "    <tr>\n",
       "      <td>142</td>\n",
       "      <td>Amanda Freitag</td>\n",
       "      <td>0</td>\n",
       "    </tr>\n",
       "    <tr>\n",
       "      <td>296</td>\n",
       "      <td>Buddy Valastro</td>\n",
       "      <td>0</td>\n",
       "    </tr>\n",
       "  </tbody>\n",
       "</table>\n",
       "</div>"
      ],
      "text/plain": [
       "      SecondRoundWinner  BobbyDominates\n",
       "81   Alex Guarnaschelli               0\n",
       "94         Anne Burrell               0\n",
       "139  Alex Guarnaschelli               0\n",
       "140    Damaris Phillips               0\n",
       "141   Marcus Samuelsson               0\n",
       "142      Amanda Freitag               0\n",
       "296      Buddy Valastro               0"
      ]
     },
     "execution_count": 14,
     "metadata": {},
     "output_type": "execute_result"
    }
   ],
   "source": [
    "guest_personalities_df.loc[guest_personalities_df[\"BobbyFacesPersonality\"] == 1,\n",
    "                           [\"SecondRoundWinner\",\"BobbyDominates\"]]"
   ]
  },
  {
   "cell_type": "markdown",
   "metadata": {},
   "source": [
    "Looks like these chefs have Bobby's number. "
   ]
  },
  {
   "cell_type": "code",
   "execution_count": null,
   "metadata": {},
   "outputs": [],
   "source": []
  },
  {
   "cell_type": "markdown",
   "metadata": {},
   "source": [
    "### Who are the chefs that have beat Bobby multiple times?"
   ]
  },
  {
   "cell_type": "markdown",
   "metadata": {},
   "source": [
    "Group by SecondRoundWinner and count all names.\n",
    "\n",
    "exclude Bobby Flay"
   ]
  },
  {
   "cell_type": "code",
   "execution_count": 15,
   "metadata": {},
   "outputs": [
    {
     "data": {
      "text/html": [
       "<div>\n",
       "<style scoped>\n",
       "    .dataframe tbody tr th:only-of-type {\n",
       "        vertical-align: middle;\n",
       "    }\n",
       "\n",
       "    .dataframe tbody tr th {\n",
       "        vertical-align: top;\n",
       "    }\n",
       "\n",
       "    .dataframe thead th {\n",
       "        text-align: right;\n",
       "    }\n",
       "</style>\n",
       "<table border=\"1\" class=\"dataframe\">\n",
       "  <thead>\n",
       "    <tr style=\"text-align: right;\">\n",
       "      <th></th>\n",
       "      <th>SecondRoundWinner</th>\n",
       "      <th>sum</th>\n",
       "    </tr>\n",
       "  </thead>\n",
       "  <tbody>\n",
       "    <tr>\n",
       "      <td>0</td>\n",
       "      <td>Alex Guarnaschelli</td>\n",
       "      <td>2</td>\n",
       "    </tr>\n",
       "  </tbody>\n",
       "</table>\n",
       "</div>"
      ],
      "text/plain": [
       "    SecondRoundWinner  sum\n",
       "0  Alex Guarnaschelli    2"
      ]
     },
     "execution_count": 15,
     "metadata": {},
     "output_type": "execute_result"
    }
   ],
   "source": [
    "mult_winner_grp = bbf_df.groupby(\"SecondRoundWinner\").agg({\"GuestsDominate\":[\"sum\"]})\n",
    "\n",
    "# exclude first level of multi-indexed columns resulting from the groupby\n",
    "mult_winner_grp.columns = mult_winner_grp.columns.droplevel(0)\n",
    "\n",
    "# show the top winning percentages for Guests who have appeared at least five times\n",
    "(mult_winner_grp.loc[mult_winner_grp[\"sum\"] > 1, :]\n",
    " .sort_values(\"sum\", ascending = False)\n",
    " .reset_index())"
   ]
  },
  {
   "cell_type": "markdown",
   "metadata": {},
   "source": [
    "Alex Guarnaschelli is the only chef to defeat Bobby TWICE!"
   ]
  },
  {
   "cell_type": "markdown",
   "metadata": {},
   "source": [
    "### What Judge has appeared the most on the show?"
   ]
  },
  {
   "cell_type": "code",
   "execution_count": null,
   "metadata": {},
   "outputs": [],
   "source": [
    "split Judge into 3 columns\n",
    "\n",
    "union only those columns\n",
    "\n",
    "groupby by Judges and count Judges\n",
    "\n",
    "can do a word cloud for number of appearances by a Guest"
   ]
  },
  {
   "cell_type": "code",
   "execution_count": 16,
   "metadata": {
    "scrolled": true
   },
   "outputs": [
    {
     "data": {
      "text/plain": [
       "Index(['SeriesEpisodeNumber', 'Season', 'SeasonEpisodeNumber', 'Title',\n",
       "       'OriginalAirdate', 'Guests', 'FirstRoundIngredient',\n",
       "       'FirstRoundContestants', 'SecondRoundJudges', 'SecondRoundDish',\n",
       "       'SecondRoundWinner', 'BobbyDominates', 'GuestsDominate'],\n",
       "      dtype='object')"
      ]
     },
     "execution_count": 16,
     "metadata": {},
     "output_type": "execute_result"
    }
   ],
   "source": [
    "bbf_df.columns"
   ]
  },
  {
   "cell_type": "code",
   "execution_count": 17,
   "metadata": {},
   "outputs": [
    {
     "data": {
      "text/html": [
       "<div>\n",
       "<style scoped>\n",
       "    .dataframe tbody tr th:only-of-type {\n",
       "        vertical-align: middle;\n",
       "    }\n",
       "\n",
       "    .dataframe tbody tr th {\n",
       "        vertical-align: top;\n",
       "    }\n",
       "\n",
       "    .dataframe thead th {\n",
       "        text-align: right;\n",
       "    }\n",
       "</style>\n",
       "<table border=\"1\" class=\"dataframe\">\n",
       "  <thead>\n",
       "    <tr style=\"text-align: right;\">\n",
       "      <th></th>\n",
       "      <th>Judges</th>\n",
       "      <th>count</th>\n",
       "    </tr>\n",
       "  </thead>\n",
       "  <tbody>\n",
       "    <tr>\n",
       "      <td>0</td>\n",
       "      <td>Frank Prisinzano</td>\n",
       "      <td>17</td>\n",
       "    </tr>\n",
       "    <tr>\n",
       "      <td>1</td>\n",
       "      <td>Leah Cohen</td>\n",
       "      <td>16</td>\n",
       "    </tr>\n",
       "    <tr>\n",
       "      <td>2</td>\n",
       "      <td>Michael Psilakis</td>\n",
       "      <td>16</td>\n",
       "    </tr>\n",
       "    <tr>\n",
       "      <td>3</td>\n",
       "      <td>Madison Cowan</td>\n",
       "      <td>15</td>\n",
       "    </tr>\n",
       "    <tr>\n",
       "      <td>4</td>\n",
       "      <td>Lourdes Castro</td>\n",
       "      <td>14</td>\n",
       "    </tr>\n",
       "    <tr>\n",
       "      <td>5</td>\n",
       "      <td>Ivy Stark</td>\n",
       "      <td>14</td>\n",
       "    </tr>\n",
       "    <tr>\n",
       "      <td>6</td>\n",
       "      <td>Hugh Mangum</td>\n",
       "      <td>13</td>\n",
       "    </tr>\n",
       "    <tr>\n",
       "      <td>7</td>\n",
       "      <td>Michael Lomonaco</td>\n",
       "      <td>13</td>\n",
       "    </tr>\n",
       "    <tr>\n",
       "      <td>8</td>\n",
       "      <td>Ed McFarland</td>\n",
       "      <td>12</td>\n",
       "    </tr>\n",
       "    <tr>\n",
       "      <td>9</td>\n",
       "      <td>Tricia Williams</td>\n",
       "      <td>11</td>\n",
       "    </tr>\n",
       "    <tr>\n",
       "      <td>10</td>\n",
       "      <td>Paulette Goto</td>\n",
       "      <td>11</td>\n",
       "    </tr>\n",
       "    <tr>\n",
       "      <td>11</td>\n",
       "      <td>Corby Kummer</td>\n",
       "      <td>11</td>\n",
       "    </tr>\n",
       "    <tr>\n",
       "      <td>12</td>\n",
       "      <td>Wylie Dufresne</td>\n",
       "      <td>10</td>\n",
       "    </tr>\n",
       "    <tr>\n",
       "      <td>13</td>\n",
       "      <td>Ariane Daguin</td>\n",
       "      <td>9</td>\n",
       "    </tr>\n",
       "    <tr>\n",
       "      <td>14</td>\n",
       "      <td>Sara Gore</td>\n",
       "      <td>8</td>\n",
       "    </tr>\n",
       "    <tr>\n",
       "      <td>15</td>\n",
       "      <td>Susan Ungaro</td>\n",
       "      <td>8</td>\n",
       "    </tr>\n",
       "    <tr>\n",
       "      <td>16</td>\n",
       "      <td>April Bloomfield</td>\n",
       "      <td>8</td>\n",
       "    </tr>\n",
       "    <tr>\n",
       "      <td>17</td>\n",
       "      <td>Aliya Leekong</td>\n",
       "      <td>8</td>\n",
       "    </tr>\n",
       "  </tbody>\n",
       "</table>\n",
       "</div>"
      ],
      "text/plain": [
       "              Judges  count\n",
       "0   Frank Prisinzano     17\n",
       "1         Leah Cohen     16\n",
       "2   Michael Psilakis     16\n",
       "3      Madison Cowan     15\n",
       "4     Lourdes Castro     14\n",
       "5          Ivy Stark     14\n",
       "6        Hugh Mangum     13\n",
       "7   Michael Lomonaco     13\n",
       "8       Ed McFarland     12\n",
       "9    Tricia Williams     11\n",
       "10     Paulette Goto     11\n",
       "11      Corby Kummer     11\n",
       "12    Wylie Dufresne     10\n",
       "13     Ariane Daguin      9\n",
       "14         Sara Gore      8\n",
       "15      Susan Ungaro      8\n",
       "16  April Bloomfield      8\n",
       "17     Aliya Leekong      8"
      ]
     },
     "execution_count": 17,
     "metadata": {},
     "output_type": "execute_result"
    }
   ],
   "source": [
    "# split the Judges column into separate columns for every judge\n",
    "judges_df = pd.concat([bbf_df[\"SecondRoundJudges\"], \n",
    "                       bbf_df[\"SecondRoundJudges\"].str.split(',', expand = True)], axis = 1)\n",
    "\n",
    "# rename columns\n",
    "judges_df.columns = [\"Judges\",\"Judge1\",\"Judge2\",\"Judge3\"]\n",
    "\n",
    "# stack judges\n",
    "judges_series = pd.concat([judges_df[\"Judge1\"], \n",
    "                           judges_df[\"Judge2\"], \n",
    "                           judges_df[\"Judge3\"]],\n",
    "                          axis = 0).dropna() # axis = 0 for rows\n",
    "\n",
    "# strip whitespace so to not capture duplicates\n",
    "judges_series = judges_series.str.strip()\n",
    "\n",
    "# create dataframe\n",
    "judges_df = pd.DataFrame({'Judges': judges_series})\n",
    "\n",
    "# group by Judges and count\n",
    "judges_df_grp = judges_df.groupby(\"Judges\").agg({\"Judges\":[\"count\"]})\n",
    "\n",
    "# exclude first level of multi-indexed columns resulting from the groupby\n",
    "judges_df_grp.columns = judges_df_grp.columns.droplevel(0)\n",
    "\n",
    "# sort values\n",
    "judges_df_grp = judges_df_grp.sort_values(\"count\", ascending = False).reset_index()\n",
    "\n",
    "# specify top quantile (0 to 1)\n",
    "quant = judges_df_grp.quantile(0.95)\n",
    "\n",
    "# show which Guests have made the most appearances\n",
    "judges_df_grp.loc[judges_df_grp[\"count\"] >= quant[0], :]"
   ]
  },
  {
   "cell_type": "markdown",
   "metadata": {},
   "source": [
    "Frank Prisinzano has appeared the most as a judge. "
   ]
  },
  {
   "cell_type": "code",
   "execution_count": null,
   "metadata": {},
   "outputs": [],
   "source": []
  },
  {
   "cell_type": "markdown",
   "metadata": {},
   "source": [
    "### Are there biased judges (for/against Bobby)?"
   ]
  },
  {
   "cell_type": "code",
   "execution_count": null,
   "metadata": {},
   "outputs": [],
   "source": [
    "take the split columns of Judges from above and the Bobby Dominated indicator\n",
    "\n",
    "union only the Judges columns and Bobby win indicator column\n",
    "\n",
    "groupby by Judges and count/mean Yes's/1s\n",
    "\n",
    "can do a bar chat of win percentages by a Judges"
   ]
  },
  {
   "cell_type": "code",
   "execution_count": 18,
   "metadata": {},
   "outputs": [
    {
     "data": {
      "text/html": [
       "<div>\n",
       "<style scoped>\n",
       "    .dataframe tbody tr th:only-of-type {\n",
       "        vertical-align: middle;\n",
       "    }\n",
       "\n",
       "    .dataframe tbody tr th {\n",
       "        vertical-align: top;\n",
       "    }\n",
       "\n",
       "    .dataframe thead th {\n",
       "        text-align: right;\n",
       "    }\n",
       "</style>\n",
       "<table border=\"1\" class=\"dataframe\">\n",
       "  <thead>\n",
       "    <tr style=\"text-align: right;\">\n",
       "      <th></th>\n",
       "      <th>Judge</th>\n",
       "      <th>count</th>\n",
       "      <th>mean</th>\n",
       "    </tr>\n",
       "  </thead>\n",
       "  <tbody>\n",
       "    <tr>\n",
       "      <td>0</td>\n",
       "      <td>Tricia Williams</td>\n",
       "      <td>11</td>\n",
       "      <td>0.636364</td>\n",
       "    </tr>\n",
       "    <tr>\n",
       "      <td>1</td>\n",
       "      <td>Paulette Goto</td>\n",
       "      <td>11</td>\n",
       "      <td>0.545455</td>\n",
       "    </tr>\n",
       "    <tr>\n",
       "      <td>2</td>\n",
       "      <td>Leah Cohen</td>\n",
       "      <td>16</td>\n",
       "      <td>0.437500</td>\n",
       "    </tr>\n",
       "    <tr>\n",
       "      <td>3</td>\n",
       "      <td>Ed McFarland</td>\n",
       "      <td>12</td>\n",
       "      <td>0.416667</td>\n",
       "    </tr>\n",
       "    <tr>\n",
       "      <td>4</td>\n",
       "      <td>Frank Prisinzano</td>\n",
       "      <td>17</td>\n",
       "      <td>0.411765</td>\n",
       "    </tr>\n",
       "    <tr>\n",
       "      <td>5</td>\n",
       "      <td>Madison Cowan</td>\n",
       "      <td>15</td>\n",
       "      <td>0.400000</td>\n",
       "    </tr>\n",
       "    <tr>\n",
       "      <td>6</td>\n",
       "      <td>Wylie Dufresne</td>\n",
       "      <td>10</td>\n",
       "      <td>0.400000</td>\n",
       "    </tr>\n",
       "    <tr>\n",
       "      <td>7</td>\n",
       "      <td>Ivy Stark</td>\n",
       "      <td>14</td>\n",
       "      <td>0.285714</td>\n",
       "    </tr>\n",
       "    <tr>\n",
       "      <td>8</td>\n",
       "      <td>Corby Kummer</td>\n",
       "      <td>11</td>\n",
       "      <td>0.272727</td>\n",
       "    </tr>\n",
       "    <tr>\n",
       "      <td>9</td>\n",
       "      <td>Michael Psilakis</td>\n",
       "      <td>16</td>\n",
       "      <td>0.250000</td>\n",
       "    </tr>\n",
       "    <tr>\n",
       "      <td>10</td>\n",
       "      <td>Hugh Mangum</td>\n",
       "      <td>13</td>\n",
       "      <td>0.230769</td>\n",
       "    </tr>\n",
       "    <tr>\n",
       "      <td>11</td>\n",
       "      <td>Michael Lomonaco</td>\n",
       "      <td>13</td>\n",
       "      <td>0.230769</td>\n",
       "    </tr>\n",
       "    <tr>\n",
       "      <td>12</td>\n",
       "      <td>Lourdes Castro</td>\n",
       "      <td>14</td>\n",
       "      <td>0.142857</td>\n",
       "    </tr>\n",
       "  </tbody>\n",
       "</table>\n",
       "</div>"
      ],
      "text/plain": [
       "               Judge  count      mean\n",
       "0    Tricia Williams     11  0.636364\n",
       "1      Paulette Goto     11  0.545455\n",
       "2         Leah Cohen     16  0.437500\n",
       "3       Ed McFarland     12  0.416667\n",
       "4   Frank Prisinzano     17  0.411765\n",
       "5      Madison Cowan     15  0.400000\n",
       "6     Wylie Dufresne     10  0.400000\n",
       "7          Ivy Stark     14  0.285714\n",
       "8       Corby Kummer     11  0.272727\n",
       "9   Michael Psilakis     16  0.250000\n",
       "10       Hugh Mangum     13  0.230769\n",
       "11  Michael Lomonaco     13  0.230769\n",
       "12    Lourdes Castro     14  0.142857"
      ]
     },
     "execution_count": 18,
     "metadata": {},
     "output_type": "execute_result"
    }
   ],
   "source": [
    "# split the Guests column into separate columns for every guest\n",
    "judges_record_df = pd.concat([bbf_df[\"SecondRoundJudges\"], \n",
    "                              bbf_df[\"SecondRoundJudges\"].str.split(',', expand = True)], axis = 1)\n",
    "\n",
    "# rename columns\n",
    "judges_record_df.columns = [\"Judges\",\"Judge1\",\"Judge2\",\"Judge3\"]\n",
    "\n",
    "# bind columns together\n",
    "judges_record_df = pd.concat([judges_record_df, bbf_df[\"GuestsDominate\"]], axis = 1)\n",
    "\n",
    "# get Judge1 and GuestsDominate indicator\n",
    "judge1_df = judges_record_df.loc[:, [\"Judge1\", \"GuestsDominate\"]]\n",
    "\n",
    "# get Judge2 and GuestsDominate indicator\n",
    "judge2_df = judges_record_df.loc[:, [\"Judge2\", \"GuestsDominate\"]]\n",
    "\n",
    "# get Judge3 and GuestsDominate indicator\n",
    "judge3_df = judges_record_df.loc[:, [\"Judge3\", \"GuestsDominate\"]]\n",
    "\n",
    "# rename columns so they could be stacked\n",
    "judge1_df.columns = [\"Judge\",\"GuestsDominate\"]\n",
    "judge2_df.columns = [\"Judge\",\"GuestsDominate\"]\n",
    "judge3_df.columns = [\"Judge\",\"GuestsDominate\"]\n",
    "\n",
    "# stack guests \n",
    "judges_record_df = pd.concat([judge1_df, \n",
    "                              judge2_df, \n",
    "                              judge3_df],\n",
    "                             axis = 0).dropna() # axis = 0 for rows\n",
    "\n",
    "# strip whitespace so to not capture duplicates\n",
    "judges_record_df[\"Judge\"] = judges_record_df[\"Judge\"].str.strip()\n",
    "\n",
    "# group by Judge and count\n",
    "judges_record_grp = judges_record_df.groupby(\"Judge\").agg({\"Judge\":[\"count\"], \"GuestsDominate\":[\"mean\"]})\n",
    "\n",
    "# exclude first level of multi-indexed columns resulting from the groupby\n",
    "judges_record_grp.columns = judges_record_grp.columns.droplevel(0)\n",
    "\n",
    "# show the top winning percentages for Judges who have appeared at least five times\n",
    "(judges_record_grp.loc[judges_record_grp[\"count\"] >= 10, :]\n",
    " .sort_values(\"mean\", ascending = False)\n",
    " .reset_index())"
   ]
  },
  {
   "cell_type": "markdown",
   "metadata": {},
   "source": [
    "When Tricia Williams appears as a judge, it seems the contestant wins  more often. For 11 appearances, that seems like some pretty biased results. Of course, correlation does not mean causation, and 11 appearances isn't enough to statistically prove bias. However, Bobby would probably prefer to have Tricia appear less often on the show. "
   ]
  },
  {
   "cell_type": "markdown",
   "metadata": {},
   "source": [
    "### How does Bobby do against contestants who have been judges?"
   ]
  },
  {
   "cell_type": "code",
   "execution_count": 19,
   "metadata": {},
   "outputs": [
    {
     "data": {
      "text/plain": [
       "Index(['SeriesEpisodeNumber', 'Season', 'SeasonEpisodeNumber', 'Title',\n",
       "       'OriginalAirdate', 'Guests', 'FirstRoundIngredient',\n",
       "       'FirstRoundContestants', 'SecondRoundJudges', 'SecondRoundDish',\n",
       "       'SecondRoundWinner', 'BobbyDominates', 'GuestsDominate'],\n",
       "      dtype='object')"
      ]
     },
     "execution_count": 19,
     "metadata": {},
     "output_type": "execute_result"
    }
   ],
   "source": [
    "bbf_df.columns"
   ]
  },
  {
   "cell_type": "code",
   "execution_count": 20,
   "metadata": {},
   "outputs": [
    {
     "data": {
      "text/html": [
       "<div>\n",
       "<style scoped>\n",
       "    .dataframe tbody tr th:only-of-type {\n",
       "        vertical-align: middle;\n",
       "    }\n",
       "\n",
       "    .dataframe tbody tr th {\n",
       "        vertical-align: top;\n",
       "    }\n",
       "\n",
       "    .dataframe thead tr th {\n",
       "        text-align: left;\n",
       "    }\n",
       "\n",
       "    .dataframe thead tr:last-of-type th {\n",
       "        text-align: right;\n",
       "    }\n",
       "</style>\n",
       "<table border=\"1\" class=\"dataframe\">\n",
       "  <thead>\n",
       "    <tr>\n",
       "      <th></th>\n",
       "      <th>BobbyDominates</th>\n",
       "    </tr>\n",
       "    <tr>\n",
       "      <th></th>\n",
       "      <th>mean</th>\n",
       "    </tr>\n",
       "    <tr>\n",
       "      <th>IsJudge</th>\n",
       "      <th></th>\n",
       "    </tr>\n",
       "  </thead>\n",
       "  <tbody>\n",
       "    <tr>\n",
       "      <td>No</td>\n",
       "      <td>0.630931</td>\n",
       "    </tr>\n",
       "    <tr>\n",
       "      <td>Yes</td>\n",
       "      <td>0.520000</td>\n",
       "    </tr>\n",
       "  </tbody>\n",
       "</table>\n",
       "</div>"
      ],
      "text/plain": [
       "        BobbyDominates\n",
       "                  mean\n",
       "IsJudge               \n",
       "No            0.630931\n",
       "Yes           0.520000"
      ]
     },
     "execution_count": 20,
     "metadata": {},
     "output_type": "execute_result"
    }
   ],
   "source": [
    "# split the Guests column into separate columns for every guest\n",
    "contestant_record_df = pd.concat([bbf_df[\"FirstRoundContestants\"], \n",
    "                                  bbf_df[\"FirstRoundContestants\"].str.split(',', expand = True)], axis = 1)\n",
    "\n",
    "# rename columns\n",
    "contestant_record_df.columns = [\"Contestant\",\"Contestant1\",\"Contestant2\"]\n",
    "\n",
    "# # strip whitespace so to not capture duplicates\n",
    "# bbf_df[\"SecondRoundWinner\"] = bbf_df[\"SecondRoundWinner\"].str.strip()\n",
    "\n",
    "# bind columns together\n",
    "contestant_record_df = pd.concat([contestant_record_df, bbf_df[\"BobbyDominates\"]], axis = 1)\n",
    "\n",
    "# get Contestant1 and BobbyDominates indicator\n",
    "contestant1_df = contestant_record_df.loc[:, [\"Contestant1\", \"BobbyDominates\"]]\n",
    "\n",
    "# get Contestant2 and BobbyDominates indicator\n",
    "contestant2_df = contestant_record_df.loc[:, [\"Contestant2\", \"BobbyDominates\"]]\n",
    "\n",
    "# rename columns so they could be stacked\n",
    "contestant1_df.columns = [\"Contestant\",\"BobbyDominates\"]\n",
    "contestant2_df.columns = [\"Contestant\",\"BobbyDominates\"]\n",
    "\n",
    "# stack contestants\n",
    "contestant_record_df = pd.concat([contestant1_df, \n",
    "                                  contestant2_df],\n",
    "                                 axis = 0).dropna() # axis = 0 for rows\n",
    "\n",
    "# strip whitespace so to not capture duplicates\n",
    "contestant_record_df[\"Contestant\"] = contestant_record_df[\"Contestant\"].str.strip()\n",
    "\n",
    "# get a unique list of the judges\n",
    "judges_uniq_df = judges_df.drop_duplicates()\n",
    "\n",
    "# get contestants who have been judges (join)\n",
    "contestants_merged_df = pd.merge(contestant_record_df, judges_uniq_df,\n",
    "                                 left_on = \"Contestant\",\n",
    "                                 right_on = \"Judges\",\n",
    "                                 how = \"left\")\n",
    "\n",
    "# get contestants who have been judges (indicator)\n",
    "contestants_merged_df[\"IsJudge\"] = np.where(contestants_merged_df[\"Contestant\"] == \n",
    "                                            contestants_merged_df[\"Judges\"], \"Yes\", \"No\")\n",
    "\n",
    "# group by Judge and get winning percentage\n",
    "contestants_merged_df.groupby(\"IsJudge\").agg({\"BobbyDominates\":[\"mean\"]})\n",
    "\n",
    "# # exclude first level of multi-indexed columns resulting from the groupby\n",
    "# contestants_merged_grp.columns = contestants_merged_grp.columns.droplevel(0)"
   ]
  },
  {
   "cell_type": "markdown",
   "metadata": {},
   "source": [
    "Bobby is more human than god when he faces off against a contestant who is a judge on the show."
   ]
  },
  {
   "cell_type": "code",
   "execution_count": null,
   "metadata": {},
   "outputs": [],
   "source": []
  },
  {
   "cell_type": "markdown",
   "metadata": {},
   "source": [
    "### Word Cloud on Bobby's dishes he's won at"
   ]
  },
  {
   "cell_type": "code",
   "execution_count": 28,
   "metadata": {},
   "outputs": [],
   "source": [
    "import wordcloud"
   ]
  },
  {
   "cell_type": "code",
   "execution_count": 82,
   "metadata": {},
   "outputs": [
    {
     "data": {
      "image/png": "[encoded data removed]",
      "text/plain": [
       "<Figure size 432x288 with 1 Axes>"
      ]
     },
     "metadata": {
      "needs_background": "light"
     },
     "output_type": "display_data"
    }
   ],
   "source": [
    "# subset to the contests Bobby won\n",
    "winning_dishes = bbf_df.loc[bbf_df[\"BobbyDominates\"] == 1]\n",
    "\n",
    "# get the dishes column\n",
    "winning_dishes = winning_dishes[[\"SecondRoundDish\"]]\n",
    "\n",
    "# get all dishes into a string of text\n",
    "text = \" \".join(dish for dish in winning_dishes.SecondRoundDish)\n",
    "\n",
    "# Create and generate a word cloud image:\n",
    "# wc = wordcloud.WordCloud().generate(text)\n",
    "wc = wordcloud.WordCloud(max_font_size = 100, max_words = 100, background_color = \"black\").generate(text)\n",
    "\n",
    "# Display the generated image:\n",
    "plt.imshow(wc, interpolation='bilinear')\n",
    "plt.axis(\"off\")\n",
    "plt.show()"
   ]
  },
  {
   "cell_type": "markdown",
   "metadata": {},
   "source": [
    "### Word Cloud on Bobby's dishes he's lost at"
   ]
  },
  {
   "cell_type": "code",
   "execution_count": 81,
   "metadata": {},
   "outputs": [
    {
     "data": {
      "image/png": "[encoded data removed]",
      "text/plain": [
       "<Figure size 432x288 with 1 Axes>"
      ]
     },
     "metadata": {
      "needs_background": "light"
     },
     "output_type": "display_data"
    }
   ],
   "source": [
    "# subset to the contests Bobby won\n",
    "winning_dishes = bbf_df.loc[bbf_df[\"BobbyDominates\"] == 0]\n",
    "\n",
    "# get the dishes column\n",
    "winning_dishes = winning_dishes[[\"SecondRoundDish\"]]\n",
    "\n",
    "# get all dishes into a string of text\n",
    "text = \" \".join(dish for dish in winning_dishes.SecondRoundDish)\n",
    "\n",
    "# Create and generate a word cloud image:\n",
    "wc = wordcloud.WordCloud(max_font_size = 100, max_words = 100, background_color = \"black\").generate(text)\n",
    "\n",
    "# Display the generated image:\n",
    "plt.imshow(wc, interpolation='bilinear')\n",
    "plt.axis(\"off\")\n",
    "plt.show()"
   ]
  },
  {
   "cell_type": "markdown",
   "metadata": {},
   "source": [
    "As \"chicken\" and \"sandwich\" seem to be dishes that are commonly made in the Second Round, it's tough to make a decisive opinion on what Bobby is really good or bad at cooking. A few things that stick out are that in the WordCloud of dishes Bobby has won, he is good at cooking beef and pork, and in the WordCloud of dishes Bobby has lost, he is not good at baking (i.e. cake)."
   ]
  }
 ],
 "metadata": {
  "kernelspec": {
   "display_name": "Python 3",
   "language": "python",
   "name": "python3"
  },
  "language_info": {
   "codemirror_mode": {
    "name": "ipython",
    "version": 3
   },
   "file_extension": ".py",
   "mimetype": "text/x-python",
   "name": "python",
   "nbconvert_exporter": "python",
   "pygments_lexer": "ipython3",
   "version": "3.7.4"
  }
 },
 "nbformat": 4,
 "nbformat_minor": 2
}
