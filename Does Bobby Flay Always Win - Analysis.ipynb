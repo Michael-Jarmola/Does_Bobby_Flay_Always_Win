{
 "cells": [
  {
   "cell_type": "code",
   "execution_count": 52,
   "metadata": {},
   "outputs": [],
   "source": [
    "import pandas as pd\n",
    "import matplotlib\n",
    "import matplotlib.pyplot as plt\n",
    "import seaborn as sns\n",
    "import numpy as np\n",
    "import scipy.stats\n",
    "import random\n",
    "\n",
    "pd.options.display.max_rows = 999\n",
    "pd.options.display.max_columns = 999\n",
    "\n",
    "%matplotlib inline"
   ]
  },
  {
   "cell_type": "code",
   "execution_count": 53,
   "metadata": {},
   "outputs": [],
   "source": [
    "bbf_df = pd.read_csv(\"Data/Beat_Bobby_Flay_Wikipedia_Data.csv\", engine = \"python\")"
   ]
  },
  {
   "cell_type": "code",
   "execution_count": 54,
   "metadata": {},
   "outputs": [
    {
     "name": "stdout",
     "output_type": "stream",
     "text": [
      "<class 'pandas.core.frame.DataFrame'>\n",
      "RangeIndex: 297 entries, 0 to 296\n",
      "Data columns (total 11 columns):\n",
      "SeriesEpisodeNumber      297 non-null int64\n",
      "Season                   297 non-null int64\n",
      "SeasonEpisodeNumber      297 non-null int64\n",
      "Title                    297 non-null object\n",
      "OriginalAirdate          297 non-null object\n",
      "Guests                   297 non-null object\n",
      "FirstRoundIngredient     297 non-null object\n",
      "FirstRoundContestants    297 non-null object\n",
      "SecondRoundJudges        297 non-null object\n",
      "SecondRoundDish          297 non-null object\n",
      "SecondRoundWinner        297 non-null object\n",
      "dtypes: int64(3), object(8)\n",
      "memory usage: 25.6+ KB\n"
     ]
    }
   ],
   "source": [
    "bbf_df.info()"
   ]
  },
  {
   "cell_type": "code",
   "execution_count": null,
   "metadata": {},
   "outputs": [],
   "source": [
    "# df_obj = bbf_df.select_dtypes(['object']) # identify object columns\n",
    "# bbf_df[df_obj.columns] = df_obj.apply(lambda x: x.str.strip()) # Strip whitespace for object columns."
   ]
  },
  {
   "cell_type": "markdown",
   "metadata": {},
   "source": [
    "### What is Bobby's overall record?"
   ]
  },
  {
   "cell_type": "markdown",
   "metadata": {},
   "source": [
    "Create flag for `SecondRoundWinner`"
   ]
  },
  {
   "cell_type": "markdown",
   "metadata": {},
   "source": [
    "0 = Bobby Lost\n",
    "\n",
    "1 = Bobby Dominates"
   ]
  },
  {
   "cell_type": "code",
   "execution_count": 55,
   "metadata": {},
   "outputs": [],
   "source": [
    "bbf_df[\"BobbyDominates\"] = np.where(bbf_df[\"SecondRoundWinner\"] == \"Bobby Flay\", 1, 0)"
   ]
  },
  {
   "cell_type": "code",
   "execution_count": 56,
   "metadata": {},
   "outputs": [
    {
     "data": {
      "text/html": [
       "<div>\n",
       "<style scoped>\n",
       "    .dataframe tbody tr th:only-of-type {\n",
       "        vertical-align: middle;\n",
       "    }\n",
       "\n",
       "    .dataframe tbody tr th {\n",
       "        vertical-align: top;\n",
       "    }\n",
       "\n",
       "    .dataframe thead tr th {\n",
       "        text-align: left;\n",
       "    }\n",
       "\n",
       "    .dataframe thead tr:last-of-type th {\n",
       "        text-align: right;\n",
       "    }\n",
       "</style>\n",
       "<table border=\"1\" class=\"dataframe\">\n",
       "  <thead>\n",
       "    <tr>\n",
       "      <th></th>\n",
       "      <th>BobbyDominates</th>\n",
       "    </tr>\n",
       "    <tr>\n",
       "      <th></th>\n",
       "      <th>count</th>\n",
       "    </tr>\n",
       "    <tr>\n",
       "      <th>BobbyDominates</th>\n",
       "      <th></th>\n",
       "    </tr>\n",
       "  </thead>\n",
       "  <tbody>\n",
       "    <tr>\n",
       "      <td>0</td>\n",
       "      <td>111</td>\n",
       "    </tr>\n",
       "    <tr>\n",
       "      <td>1</td>\n",
       "      <td>186</td>\n",
       "    </tr>\n",
       "  </tbody>\n",
       "</table>\n",
       "</div>"
      ],
      "text/plain": [
       "               BobbyDominates\n",
       "                        count\n",
       "BobbyDominates               \n",
       "0                         111\n",
       "1                         186"
      ]
     },
     "execution_count": 56,
     "metadata": {},
     "output_type": "execute_result"
    }
   ],
   "source": [
    "overall_record = bbf_df.groupby(\"BobbyDominates\").agg({\"BobbyDominates\":[\"count\"]})\n",
    "overall_record"
   ]
  },
  {
   "cell_type": "code",
   "execution_count": 57,
   "metadata": {},
   "outputs": [
    {
     "name": "stdout",
     "output_type": "stream",
     "text": [
      "Bobby's winning percentage:  63.0 %\n"
     ]
    }
   ],
   "source": [
    "print(\"Bobby's winning percentage: \", \n",
    "      (overall_record.iloc[1,0] / (overall_record.iloc[0,0] + overall_record.iloc[1,0])).round(2)*100, \"%\")"
   ]
  },
  {
   "cell_type": "markdown",
   "metadata": {},
   "source": [
    "63% is honestly lower than I thought, but still very impressive."
   ]
  },
  {
   "cell_type": "markdown",
   "metadata": {},
   "source": [
    "### How has Bobby done over time?"
   ]
  },
  {
   "cell_type": "code",
   "execution_count": 58,
   "metadata": {},
   "outputs": [],
   "source": [
    "# get results within a season\n",
    "seasonal_record = bbf_df.groupby([\"Season\"]).agg({\"BobbyDominates\":[\"mean\"]}).round(4)\n",
    "seasonal_record.reset_index(inplace = True)\n",
    "# print(seasonal_record.columns)"
   ]
  },
  {
   "cell_type": "code",
   "execution_count": 59,
   "metadata": {
    "scrolled": true
   },
   "outputs": [
    {
     "data": {
      "text/plain": [
       "Text(0.5, 1.0, 'Bobby Wins Most Episodes Most Seasons')"
      ]
     },
     "execution_count": 59,
     "metadata": {},
     "output_type": "execute_result"
    },
    {
     "data": {
      "image/png": "[encoded data removed]",
      "text/plain": [
       "<Figure size 1080x288 with 1 Axes>"
      ]
     },
     "metadata": {
      "needs_background": "light"
     },
     "output_type": "display_data"
    }
   ],
   "source": [
    "fig = plt.figure(figsize=(15,4))\n",
    "ax1 = fig.add_subplot(111)\n",
    "\n",
    "ax1.plot(seasonal_record[\"Season\"], seasonal_record[(\"BobbyDominates\", \"mean\")],\n",
    "         color = \"c\",\n",
    "         marker = \"o\")\n",
    "ax1.axhline(y = 0.5, color = 'r', linestyle = '--')\n",
    "plt.xticks(seasonal_record[\"Season\"])\n",
    "plt.xlabel(\"Seasons\")\n",
    "plt.ylabel(\"Win Percentage\")\n",
    "plt.title(\"Bobby Wins Most Episodes Most Seasons\")"
   ]
  },
  {
   "cell_type": "markdown",
   "metadata": {},
   "source": [
    "Bobby has only had three losing seasons, and one .500 season.\n",
    "\n",
    "Simply put, Bobby dominates. "
   ]
  },
  {
   "cell_type": "markdown",
   "metadata": {},
   "source": [
    "### Wich Guest has appeared on the show the most?"
   ]
  },
  {
   "cell_type": "code",
   "execution_count": 161,
   "metadata": {},
   "outputs": [
    {
     "data": {
      "text/html": [
       "<div>\n",
       "<style scoped>\n",
       "    .dataframe tbody tr th:only-of-type {\n",
       "        vertical-align: middle;\n",
       "    }\n",
       "\n",
       "    .dataframe tbody tr th {\n",
       "        vertical-align: top;\n",
       "    }\n",
       "\n",
       "    .dataframe thead th {\n",
       "        text-align: right;\n",
       "    }\n",
       "</style>\n",
       "<table border=\"1\" class=\"dataframe\">\n",
       "  <thead>\n",
       "    <tr style=\"text-align: right;\">\n",
       "      <th></th>\n",
       "      <th>count</th>\n",
       "    </tr>\n",
       "    <tr>\n",
       "      <th>Guests</th>\n",
       "      <th></th>\n",
       "    </tr>\n",
       "  </thead>\n",
       "  <tbody>\n",
       "    <tr>\n",
       "      <td>Alex Guarnaschelli</td>\n",
       "      <td>45</td>\n",
       "    </tr>\n",
       "    <tr>\n",
       "      <td>Scott Conant</td>\n",
       "      <td>36</td>\n",
       "    </tr>\n",
       "    <tr>\n",
       "      <td>Anne Burrell</td>\n",
       "      <td>35</td>\n",
       "    </tr>\n",
       "    <tr>\n",
       "      <td>Katie Lee</td>\n",
       "      <td>35</td>\n",
       "    </tr>\n",
       "    <tr>\n",
       "      <td>Sunny Anderson</td>\n",
       "      <td>34</td>\n",
       "    </tr>\n",
       "    <tr>\n",
       "      <td>Michael Symon</td>\n",
       "      <td>30</td>\n",
       "    </tr>\n",
       "    <tr>\n",
       "      <td>Geoffrey Zakarian</td>\n",
       "      <td>23</td>\n",
       "    </tr>\n",
       "    <tr>\n",
       "      <td>Ted Allen</td>\n",
       "      <td>19</td>\n",
       "    </tr>\n",
       "    <tr>\n",
       "      <td>Amanda Freitag</td>\n",
       "      <td>14</td>\n",
       "    </tr>\n",
       "    <tr>\n",
       "      <td>Giada De Laurentiis</td>\n",
       "      <td>14</td>\n",
       "    </tr>\n",
       "    <tr>\n",
       "      <td>Daphne Oz</td>\n",
       "      <td>13</td>\n",
       "    </tr>\n",
       "    <tr>\n",
       "      <td>Simon Majumdar</td>\n",
       "      <td>13</td>\n",
       "    </tr>\n",
       "    <tr>\n",
       "      <td>Damaris Phillips</td>\n",
       "      <td>11</td>\n",
       "    </tr>\n",
       "    <tr>\n",
       "      <td>Michael Voltaggio</td>\n",
       "      <td>11</td>\n",
       "    </tr>\n",
       "    <tr>\n",
       "      <td>Alton Brown</td>\n",
       "      <td>11</td>\n",
       "    </tr>\n",
       "    <tr>\n",
       "      <td>Jet Tila</td>\n",
       "      <td>11</td>\n",
       "    </tr>\n",
       "    <tr>\n",
       "      <td>Carla Hall</td>\n",
       "      <td>10</td>\n",
       "    </tr>\n",
       "    <tr>\n",
       "      <td>Josh Capon</td>\n",
       "      <td>8</td>\n",
       "    </tr>\n",
       "    <tr>\n",
       "      <td>Eddie Jackson</td>\n",
       "      <td>8</td>\n",
       "    </tr>\n",
       "    <tr>\n",
       "      <td>Laura Vitale</td>\n",
       "      <td>7</td>\n",
       "    </tr>\n",
       "  </tbody>\n",
       "</table>\n",
       "</div>"
      ],
      "text/plain": [
       "                     count\n",
       "Guests                    \n",
       "Alex Guarnaschelli      45\n",
       "Scott Conant            36\n",
       "Anne Burrell            35\n",
       "Katie Lee               35\n",
       "Sunny Anderson          34\n",
       "Michael Symon           30\n",
       "Geoffrey Zakarian       23\n",
       "Ted Allen               19\n",
       "Amanda Freitag          14\n",
       "Giada De Laurentiis     14\n",
       "Daphne Oz               13\n",
       "Simon Majumdar          13\n",
       "Damaris Phillips        11\n",
       "Michael Voltaggio       11\n",
       "Alton Brown             11\n",
       "Jet Tila                11\n",
       "Carla Hall              10\n",
       "Josh Capon               8\n",
       "Eddie Jackson            8\n",
       "Laura Vitale             7"
      ]
     },
     "execution_count": 161,
     "metadata": {},
     "output_type": "execute_result"
    }
   ],
   "source": [
    "# split the Guests column into separate columns for every guest\n",
    "guests_df = pd.concat([bbf_df[\"Guests\"], bbf_df[\"Guests\"].str.split(',', expand = True)], axis = 1)\n",
    "\n",
    "# rename columns\n",
    "guests_df.columns = [\"Guests\",\"Guest1\",\"Guest2\",\"Guest3\"]\n",
    "\n",
    "# stack guests \n",
    "guests_series = pd.concat([guests_df[\"Guest1\"], guests_df[\"Guest2\"], guests_df[\"Guest3\"]], axis = 0).dropna() # axis = 0 for rows\n",
    "\n",
    "# strip whitespace so to not capture duplicates\n",
    "guests_series = guests_series.str.strip()\n",
    "\n",
    "# create dataframe\n",
    "guests_df = pd.DataFrame({'Guests':guests_series})\n",
    "\n",
    "# group by Guest and count\n",
    "guests_df_grp = guests_df.groupby(\"Guests\").agg({\"Guests\":[\"count\"]})\n",
    "\n",
    "# exclude first level of multi-indexed columns resulting from the groupby\n",
    "guests_df_grp.columns = guests_df_grp.columns.droplevel(0)\n",
    "\n",
    "# show top 20 Guest Appearances\n",
    "guests_df_grp.sort_values(\"count\", ascending = False).head(20)"
   ]
  },
  {
   "cell_type": "code",
   "execution_count": 162,
   "metadata": {},
   "outputs": [
    {
     "ename": "ModuleNotFoundError",
     "evalue": "No module named 'wordcloud'",
     "output_type": "error",
     "traceback": [
      "\u001b[1;31m---------------------------------------------------------------------------\u001b[0m",
      "\u001b[1;31mModuleNotFoundError\u001b[0m                       Traceback (most recent call last)",
      "\u001b[1;32m<ipython-input-162-021e0a03a31f>\u001b[0m in \u001b[0;36m<module>\u001b[1;34m\u001b[0m\n\u001b[1;32m----> 1\u001b[1;33m \u001b[1;32mfrom\u001b[0m \u001b[0mwordcloud\u001b[0m \u001b[1;32mimport\u001b[0m \u001b[0mWordCloud\u001b[0m\u001b[1;33m\u001b[0m\u001b[1;33m\u001b[0m\u001b[0m\n\u001b[0m",
      "\u001b[1;31mModuleNotFoundError\u001b[0m: No module named 'wordcloud'"
     ]
    }
   ],
   "source": [
    "from wordcloud import WordCloud"
   ]
  },
  {
   "cell_type": "code",
   "execution_count": null,
   "metadata": {},
   "outputs": [],
   "source": []
  },
  {
   "cell_type": "markdown",
   "metadata": {},
   "source": [
    "### What is the record of a guest?"
   ]
  },
  {
   "cell_type": "markdown",
   "metadata": {},
   "source": [
    "This has nothing to do with who beats Bobby, but the guests joke about beating Bobby because their choice of contestant beats Bobby."
   ]
  },
  {
   "cell_type": "markdown",
   "metadata": {},
   "source": [
    "take the split columns of Guests from above and the Bobby Dominated indicator\n",
    "\n",
    "union only the Guests columns and Bobby win indicator column\n",
    "\n",
    "groupby by Guests and count/mean Yes's/1s\n",
    "\n",
    "can do a bar chat of win percentages by a Guest"
   ]
  },
  {
   "cell_type": "code",
   "execution_count": null,
   "metadata": {},
   "outputs": [],
   "source": []
  },
  {
   "cell_type": "code",
   "execution_count": null,
   "metadata": {},
   "outputs": [],
   "source": []
  },
  {
   "cell_type": "markdown",
   "metadata": {},
   "source": [
    "### Greatest Guest Duos"
   ]
  },
  {
   "cell_type": "markdown",
   "metadata": {},
   "source": [
    "Who shows up together as Guests the most"
   ]
  },
  {
   "cell_type": "markdown",
   "metadata": {},
   "source": [
    "Win Percentage of duos"
   ]
  },
  {
   "cell_type": "markdown",
   "metadata": {},
   "source": [
    "### What is Bobby's record against other Food Network personalities?"
   ]
  },
  {
   "cell_type": "code",
   "execution_count": 74,
   "metadata": {},
   "outputs": [],
   "source": [
    "# split the Guests column into separate columns for every guest\n",
    "guests_df = pd.concat([bbf_df[\"Guests\"], bbf_df[\"Guests\"].str.split(',', expand = True)], axis = 1) # axis = 1 for column bind\n",
    "\n",
    "# rename columns\n",
    "guests_df.columns = [\"Guests\",\"Guest1\",\"Guest2\",\"Guest3\"]\n",
    "\n",
    "# identify which episodes Bobby faces an Equal/Guest\n",
    "guests_df[\"BobbyFacesEqual\"] = np.where(guests_df[\"Guest2\"].isnull(), 1, 0)\n",
    "\n",
    "# bind columns together\n",
    "guests_df = pd.concat([guests_df, bbf_df[\"BobbyDominates\"], bbf_df[\"SecondRoundWinner\"]], axis = 1)"
   ]
  },
  {
   "cell_type": "code",
   "execution_count": 75,
   "metadata": {},
   "outputs": [
    {
     "data": {
      "text/html": [
       "<div>\n",
       "<style scoped>\n",
       "    .dataframe tbody tr th:only-of-type {\n",
       "        vertical-align: middle;\n",
       "    }\n",
       "\n",
       "    .dataframe tbody tr th {\n",
       "        vertical-align: top;\n",
       "    }\n",
       "\n",
       "    .dataframe thead th {\n",
       "        text-align: right;\n",
       "    }\n",
       "</style>\n",
       "<table border=\"1\" class=\"dataframe\">\n",
       "  <thead>\n",
       "    <tr style=\"text-align: right;\">\n",
       "      <th></th>\n",
       "      <th>BobbyDominates</th>\n",
       "    </tr>\n",
       "    <tr>\n",
       "      <th>BobbyFacesEqual</th>\n",
       "      <th></th>\n",
       "    </tr>\n",
       "  </thead>\n",
       "  <tbody>\n",
       "    <tr>\n",
       "      <td>0</td>\n",
       "      <td>0.641379</td>\n",
       "    </tr>\n",
       "    <tr>\n",
       "      <td>1</td>\n",
       "      <td>0.000000</td>\n",
       "    </tr>\n",
       "  </tbody>\n",
       "</table>\n",
       "</div>"
      ],
      "text/plain": [
       "                 BobbyDominates\n",
       "BobbyFacesEqual                \n",
       "0                      0.641379\n",
       "1                      0.000000"
      ]
     },
     "execution_count": 75,
     "metadata": {},
     "output_type": "execute_result"
    }
   ],
   "source": [
    "guests_df.groupby(\"BobbyFacesEqual\").agg({\"BobbyDominates\":\"mean\"})"
   ]
  },
  {
   "cell_type": "markdown",
   "metadata": {},
   "source": [
    "Bobby has not beat an equal/Guest."
   ]
  },
  {
   "cell_type": "code",
   "execution_count": 76,
   "metadata": {},
   "outputs": [
    {
     "data": {
      "text/html": [
       "<div>\n",
       "<style scoped>\n",
       "    .dataframe tbody tr th:only-of-type {\n",
       "        vertical-align: middle;\n",
       "    }\n",
       "\n",
       "    .dataframe tbody tr th {\n",
       "        vertical-align: top;\n",
       "    }\n",
       "\n",
       "    .dataframe thead th {\n",
       "        text-align: right;\n",
       "    }\n",
       "</style>\n",
       "<table border=\"1\" class=\"dataframe\">\n",
       "  <thead>\n",
       "    <tr style=\"text-align: right;\">\n",
       "      <th></th>\n",
       "      <th>SecondRoundWinner</th>\n",
       "      <th>BobbyDominates</th>\n",
       "    </tr>\n",
       "  </thead>\n",
       "  <tbody>\n",
       "    <tr>\n",
       "      <td>81</td>\n",
       "      <td>Alex Guarnaschelli</td>\n",
       "      <td>0</td>\n",
       "    </tr>\n",
       "    <tr>\n",
       "      <td>94</td>\n",
       "      <td>Anne Burrell</td>\n",
       "      <td>0</td>\n",
       "    </tr>\n",
       "    <tr>\n",
       "      <td>139</td>\n",
       "      <td>Alex Guarnaschelli</td>\n",
       "      <td>0</td>\n",
       "    </tr>\n",
       "    <tr>\n",
       "      <td>140</td>\n",
       "      <td>Damaris Phillips</td>\n",
       "      <td>0</td>\n",
       "    </tr>\n",
       "    <tr>\n",
       "      <td>141</td>\n",
       "      <td>Marcus Samuelsson</td>\n",
       "      <td>0</td>\n",
       "    </tr>\n",
       "    <tr>\n",
       "      <td>142</td>\n",
       "      <td>Amanda Freitag</td>\n",
       "      <td>0</td>\n",
       "    </tr>\n",
       "    <tr>\n",
       "      <td>296</td>\n",
       "      <td>Buddy Valastro</td>\n",
       "      <td>0</td>\n",
       "    </tr>\n",
       "  </tbody>\n",
       "</table>\n",
       "</div>"
      ],
      "text/plain": [
       "      SecondRoundWinner  BobbyDominates\n",
       "81   Alex Guarnaschelli               0\n",
       "94         Anne Burrell               0\n",
       "139  Alex Guarnaschelli               0\n",
       "140    Damaris Phillips               0\n",
       "141   Marcus Samuelsson               0\n",
       "142      Amanda Freitag               0\n",
       "296      Buddy Valastro               0"
      ]
     },
     "execution_count": 76,
     "metadata": {},
     "output_type": "execute_result"
    }
   ],
   "source": [
    "guests_df.loc[guests_df[\"BobbyFacesEqual\"] == 1, [\"SecondRoundWinner\",\"BobbyDominates\"]]"
   ]
  },
  {
   "cell_type": "markdown",
   "metadata": {},
   "source": [
    "Looks like these chefs have Bobby's number. "
   ]
  },
  {
   "cell_type": "code",
   "execution_count": null,
   "metadata": {},
   "outputs": [],
   "source": []
  },
  {
   "cell_type": "markdown",
   "metadata": {},
   "source": [
    "### Who are the chefs that have beat Bobby multiple times?"
   ]
  },
  {
   "cell_type": "markdown",
   "metadata": {},
   "source": [
    "Group by SecondRoundWinner and count all names.\n",
    "\n",
    "exclude Bobby Flay"
   ]
  },
  {
   "cell_type": "code",
   "execution_count": null,
   "metadata": {},
   "outputs": [],
   "source": []
  },
  {
   "cell_type": "markdown",
   "metadata": {},
   "source": [
    "### What Judge has appeared the most on the show?"
   ]
  },
  {
   "cell_type": "code",
   "execution_count": null,
   "metadata": {},
   "outputs": [],
   "source": [
    "split Judge into 3 columns\n",
    "\n",
    "union only those columns\n",
    "\n",
    "groupby by Judges and count Judges\n",
    "\n",
    "can do a word cloud for number of appearances by a Guest"
   ]
  },
  {
   "cell_type": "markdown",
   "metadata": {},
   "source": [
    "### Are there biased judges (for/against Bobby)?"
   ]
  },
  {
   "cell_type": "code",
   "execution_count": null,
   "metadata": {},
   "outputs": [],
   "source": [
    "take the split columns of Judges from above and the Bobby Dominated indicator\n",
    "\n",
    "union only the Judges columns and Bobby win indicator column\n",
    "\n",
    "groupby by Judges and count/mean Yes's/1s\n",
    "\n",
    "can do a bar chat of win percentages by a Judges"
   ]
  },
  {
   "cell_type": "markdown",
   "metadata": {},
   "source": [
    "### How does Bobby do against contestants who have been judges?"
   ]
  },
  {
   "cell_type": "markdown",
   "metadata": {},
   "source": [
    "### Word Cloud on Bobby's dishes he's won at"
   ]
  },
  {
   "cell_type": "markdown",
   "metadata": {},
   "source": [
    "### Word Cloud on Bobby's dishes he's lost at"
   ]
  },
  {
   "cell_type": "code",
   "execution_count": null,
   "metadata": {},
   "outputs": [],
   "source": []
  }
 ],
 "metadata": {
  "kernelspec": {
   "display_name": "Python 3",
   "language": "python",
   "name": "python3"
  },
  "language_info": {
   "codemirror_mode": {
    "name": "ipython",
    "version": 3
   },
   "file_extension": ".py",
   "mimetype": "text/x-python",
   "name": "python",
   "nbconvert_exporter": "python",
   "pygments_lexer": "ipython3",
   "version": "3.7.4"
  }
 },
 "nbformat": 4,
 "nbformat_minor": 2
}
